{
 "cells": [
  {
   "cell_type": "markdown",
   "metadata": {},
   "source": [
    "# GPU CHECK"
   ]
  },
  {
   "cell_type": "code",
   "execution_count": null,
   "metadata": {},
   "outputs": [],
   "source": [
    "import GPUtil\n",
    "GPUs = GPUtil.getGPUs()\n",
    "for gpu in GPUs:\n",
    "  print(gpu.name, gpu.memoryTotal)"
   ]
  },
  {
   "cell_type": "markdown",
   "metadata": {},
   "source": [
    "# Imports"
   ]
  },
  {
   "cell_type": "code",
   "execution_count": 1,
   "metadata": {},
   "outputs": [],
   "source": [
    "\n",
    "from nni.experiment import Experiment\n",
    "import torch\n",
    "torch.cuda.empty_cache()"
   ]
  },
  {
   "cell_type": "markdown",
   "metadata": {},
   "source": [
    "# Execute -- HPO One-Shot "
   ]
  },
  {
   "cell_type": "code",
   "execution_count": null,
   "metadata": {},
   "outputs": [],
   "source": [
    "search_space = {\n",
    "    'max_epochs': {'_type': 'choice', '_value': [500, 1000, 1500, 2000, 2500, 3000]},\n",
    "    'learning_rate': {'_type': 'loguniform', '_value': [1e-6, 1]},\n",
    "    'buffer_size': {'_type': 'choice', '_value': [100, 300, 500, 1000, 1500]},\n",
    "    'patience': {'_type': 'choice', '_value': [100, 300, 500, 1000, 1500]},\n",
    "    'weight_decay': {'_type': 'loguniform', '_value': [5e-9, 5e-3]},\n",
    "}\n",
    "\n",
    "\n",
    "experiment = Experiment('local')\n",
    "\n",
    "experiment.config.trial_command = 'python model.py'\n",
    "experiment.config.trial_code_directory = '.'\n",
    "experiment.config.search_space = search_space\n",
    "\n",
    "experiment.config.tuner.name = 'TPE'\n",
    "experiment.config.tuner.class_args['optimize_mode'] = 'maximize'\n",
    "\n",
    "# experiment.config.max_trial_number = 10\n",
    "experiment.config.trial_concurrency = 2\n",
    "# experiment.config.assessor.name = 'Medianstop'\n",
    "# experiment.config.assessor.class_args = {\n",
    "#             'start_step': 140 # this is going to be iteration == start_step * report_every\n",
    "#             # report every is often set to 25 but check in ./model.py line 60\n",
    "# }\n",
    "# experiment.config.tuner.class_args = {\n",
    "#             'optimize_mode': 'maximize',\n",
    "#         }\n",
    "\n",
    "experiment.run(8889)"
   ]
  },
  {
   "cell_type": "code",
   "execution_count": null,
   "metadata": {},
   "outputs": [],
   "source": [
    "experiment.stop()"
   ]
  },
  {
   "cell_type": "code",
   "execution_count": null,
   "metadata": {},
   "outputs": [],
   "source": [
    "### previous best:\n",
    "#  PSNR 26.82\n",
    "# max_epochs:2000\n",
    "# learning_rate:0.037072630910283524\n",
    "# buffer_size:300\n",
    "# patience:1500\n",
    "# weight_decay:5.5074852024240906e-8"
   ]
  },
  {
   "cell_type": "code",
   "execution_count": null,
   "metadata": {},
   "outputs": [],
   "source": []
  }
 ],
 "metadata": {
  "kernelspec": {
   "display_name": "nas-test-OHy8kATa-py3.8",
   "language": "python",
   "name": "python3"
  },
  "language_info": {
   "codemirror_mode": {
    "name": "ipython",
    "version": 3
   },
   "file_extension": ".py",
   "mimetype": "text/x-python",
   "name": "python",
   "nbconvert_exporter": "python",
   "pygments_lexer": "ipython3",
   "version": "3.8.10"
  },
  "orig_nbformat": 4
 },
 "nbformat": 4,
 "nbformat_minor": 2
}
