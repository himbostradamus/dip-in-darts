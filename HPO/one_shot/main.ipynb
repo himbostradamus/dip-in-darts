{
 "cells": [
  {
   "cell_type": "markdown",
   "metadata": {},
   "source": [
    "# GPU CHECK"
   ]
  },
  {
   "cell_type": "code",
   "execution_count": null,
   "metadata": {},
   "outputs": [],
   "source": [
    "import GPUtil\n",
    "GPUs = GPUtil.getGPUs()\n",
    "for gpu in GPUs:\n",
    "  print(gpu.name, gpu.memoryTotal)"
   ]
  },
  {
   "cell_type": "markdown",
   "metadata": {},
   "source": [
    "# Imports"
   ]
  },
  {
   "cell_type": "code",
   "execution_count": null,
   "metadata": {},
   "outputs": [],
   "source": [
    "\n",
    "from nni.experiment import Experiment\n",
    "import torch\n",
    "torch.cuda.empty_cache()"
   ]
  },
  {
   "cell_type": "markdown",
   "metadata": {},
   "source": [
    "# Execute -- HPO One-Shot "
   ]
  },
  {
   "cell_type": "code",
   "execution_count": null,
   "metadata": {},
   "outputs": [],
   "source": [
    "search_space = {\n",
    "    'max_epochs': {'_type': 'choice', '_value': [2000, 2500, 3000, 3500]},\n",
    "    'learning_rate': {'_type': 'uniform', '_value': [0.01, 0.15]},\n",
    "    'buffer_size': {'_type': 'choice', '_value': [100, 300, 500]},\n",
    "    'patience': {'_type': 'choice', '_value': [800, 1000, 1200]},\n",
    "    'weight_decay': {'_type': 'loguniform', '_value': [5e-8, 1e-6]},\n",
    "}\n",
    "\n",
    "params = {\n",
    "    'max_epochs': 3500,\n",
    "    'learning_rate': 0.01,\n",
    "    'buffer_size': 100,\n",
    "    'patience': 1000,\n",
    "    'weight_decay': 5e-7,\n",
    "}\n",
    "\n",
    "experiment = Experiment('local')\n",
    "\n",
    "experiment.config.trial_command = 'python model.py'\n",
    "experiment.config.trial_code_directory = '.'\n",
    "experiment.config.search_space = search_space\n",
    "\n",
    "experiment.config.tuner.name = 'TPE'\n",
    "experiment.config.tuner.class_args['optimize_mode'] = 'maximize'\n",
    "\n",
    "# experiment.config.max_trial_number = 10\n",
    "experiment.config.trial_concurrency = 1\n",
    "experiment.config.assessor.name = 'Medianstop'\n",
    "experiment.config.assessor.class_args = {\n",
    "            'start_step': 40\n",
    "}\n",
    "experiment.config.tuner.class_args = {\n",
    "            'optimize_mode': 'maximize',\n",
    "            # 'start_step': 5\n",
    "        }\n",
    "\n",
    "experiment.run(8889)"
   ]
  },
  {
   "cell_type": "code",
   "execution_count": null,
   "metadata": {},
   "outputs": [],
   "source": [
    "experiment.stop()"
   ]
  }
 ],
 "metadata": {
  "kernelspec": {
   "display_name": "nas-test-OHy8kATa-py3.8",
   "language": "python",
   "name": "python3"
  },
  "language_info": {
   "codemirror_mode": {
    "name": "ipython",
    "version": 3
   },
   "file_extension": ".py",
   "mimetype": "text/x-python",
   "name": "python",
   "nbconvert_exporter": "python",
   "pygments_lexer": "ipython3",
   "version": "3.8.10"
  },
  "orig_nbformat": 4
 },
 "nbformat": 4,
 "nbformat_minor": 2
}
