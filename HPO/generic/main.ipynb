{
 "cells": [
  {
   "cell_type": "markdown",
   "metadata": {},
   "source": [
    "# GPU check"
   ]
  },
  {
   "cell_type": "code",
   "execution_count": 1,
   "metadata": {},
   "outputs": [
    {
     "name": "stdout",
     "output_type": "stream",
     "text": [
      "Tesla P100-PCIE-16GB 16384.0\n"
     ]
    }
   ],
   "source": [
    "import GPUtil\n",
    "GPUs = GPUtil.getGPUs()\n",
    "for gpu in GPUs:\n",
    "  print(gpu.name, gpu.memoryTotal)"
   ]
  },
  {
   "cell_type": "markdown",
   "metadata": {},
   "source": [
    "# imports"
   ]
  },
  {
   "cell_type": "code",
   "execution_count": 2,
   "metadata": {},
   "outputs": [],
   "source": [
    "from nni.experiment import Experiment\n",
    "import torch\n",
    "torch.cuda.empty_cache()"
   ]
  },
  {
   "cell_type": "markdown",
   "metadata": {},
   "source": [
    "# Execute"
   ]
  },
  {
   "cell_type": "code",
   "execution_count": 3,
   "metadata": {},
   "outputs": [
    {
     "name": "stdout",
     "output_type": "stream",
     "text": [
      "[2023-09-07 17:50:09] \u001b[32mCreating experiment, Experiment ID: \u001b[36mcxhqs0z6\u001b[0m\n",
      "[2023-09-07 17:50:09] \u001b[32mStarting web server...\u001b[0m\n",
      "[2023-09-07 17:50:10] \u001b[32mSetting up...\u001b[0m\n",
      "[2023-09-07 17:50:10] \u001b[32mWeb portal URLs: \u001b[36mhttp://127.0.0.1:8889 http://10.128.0.3:8889\u001b[0m\n",
      "[2023-09-08 00:11:02] \u001b[33mWARNING: KeyboardInterrupt detected\u001b[0m\n",
      "[2023-09-08 00:11:02] \u001b[32mStopping experiment, please wait...\u001b[0m\n",
      "[2023-09-08 00:11:02] \u001b[32mExperiment stopped\u001b[0m\n"
     ]
    }
   ],
   "source": [
    "search_space = {\n",
    "    'max_epochs': {'_type': 'choice', '_value': [2000, 3000]},\n",
    "    'learning_rate': {'_type': 'loguniform', '_value': [1e-6, 1]},\n",
    "    'buffer_size': {'_type': 'choice', '_value': [1500]},\n",
    "    'patience': {'_type': 'choice', '_value': [1500]},\n",
    "    'weight_decay': {'_type': 'choice', '_value': [1]},\n",
    "}\n",
    "\n",
    "\n",
    "experiment = Experiment('local')\n",
    "\n",
    "experiment.config.trial_command = 'python model.py'\n",
    "experiment.config.trial_code_directory = '.'\n",
    "experiment.config.search_space = search_space\n",
    "\n",
    "experiment.config.tuner.name = 'TPE'\n",
    "experiment.config.tuner.class_args['optimize_mode'] = 'maximize'\n",
    "\n",
    "# experiment.config.max_trial_number = 10\n",
    "experiment.config.trial_concurrency = 1\n",
    "# experiment.config.assessor.name = 'Medianstop'\n",
    "# experiment.config.assessor.class_args = {\n",
    "#             'start_step': 140 # this is going to be iteration == start_step * report_every\n",
    "#             # report every is often set to 25 but check in ./model.py line 60\n",
    "# }\n",
    "# experiment.config.tuner.class_args = {\n",
    "#             'optimize_mode': 'maximize',\n",
    "#         }\n",
    "\n",
    "experiment.run(8889)"
   ]
  },
  {
   "cell_type": "code",
   "execution_count": 4,
   "metadata": {},
   "outputs": [
    {
     "name": "stdout",
     "output_type": "stream",
     "text": [
      "[2023-09-08 00:11:04] \u001b[32mStopping experiment, please wait...\u001b[0m\n",
      "[2023-09-08 00:11:04] \u001b[32mExperiment stopped\u001b[0m\n"
     ]
    }
   ],
   "source": [
    "experiment.stop()"
   ]
  },
  {
   "cell_type": "code",
   "execution_count": null,
   "metadata": {},
   "outputs": [],
   "source": []
  }
 ],
 "metadata": {
  "kernelspec": {
   "display_name": "nas-test-OHy8kATa-py3.8",
   "language": "python",
   "name": "python3"
  },
  "language_info": {
   "codemirror_mode": {
    "name": "ipython",
    "version": 3
   },
   "file_extension": ".py",
   "mimetype": "text/x-python",
   "name": "python",
   "nbconvert_exporter": "python",
   "pygments_lexer": "ipython3",
   "version": "3.8.10"
  },
  "orig_nbformat": 4
 },
 "nbformat": 4,
 "nbformat_minor": 2
}
