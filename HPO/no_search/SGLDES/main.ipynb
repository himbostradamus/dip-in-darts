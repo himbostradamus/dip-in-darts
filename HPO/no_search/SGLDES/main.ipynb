{
 "cells": [
  {
   "cell_type": "code",
   "execution_count": 1,
   "metadata": {},
   "outputs": [
    {
     "data": {
      "text/plain": [
       "'/home/joe/nas-for-dip/HPO/no_search'"
      ]
     },
     "execution_count": 1,
     "metadata": {},
     "output_type": "execute_result"
    }
   ],
   "source": [
    "# print current working directory\n",
    "import os\n",
    "os.getcwd()"
   ]
  },
  {
   "cell_type": "code",
   "execution_count": 2,
   "metadata": {},
   "outputs": [
    {
     "ename": "ValueError",
     "evalue": "ExperimentConfig: type of experiment_name (None) is not typing.Union[str, NoneType]",
     "output_type": "error",
     "traceback": [
      "\u001b[0;31m---------------------------------------------------------------------------\u001b[0m",
      "\u001b[0;31mValueError\u001b[0m                                Traceback (most recent call last)",
      "Cell \u001b[0;32mIn[2], line 20\u001b[0m\n\u001b[1;32m     17\u001b[0m experiment\u001b[39m.\u001b[39mconfig\u001b[39m.\u001b[39mmax_trial_number \u001b[39m=\u001b[39m \u001b[39m10\u001b[39m\n\u001b[1;32m     18\u001b[0m experiment\u001b[39m.\u001b[39mconfig\u001b[39m.\u001b[39mtrial_concurrency \u001b[39m=\u001b[39m \u001b[39m2\u001b[39m\n\u001b[0;32m---> 20\u001b[0m experiment\u001b[39m.\u001b[39;49mrun(\u001b[39m8889\u001b[39;49m)\n",
      "File \u001b[0;32m~/.cache/pypoetry/virtualenvs/nas-test-OHy8kATa-py3.8/lib/python3.8/site-packages/nni/experiment/experiment.py:180\u001b[0m, in \u001b[0;36mExperiment.run\u001b[0;34m(self, port, wait_completion, debug)\u001b[0m\n\u001b[1;32m    170\u001b[0m \u001b[39mdef\u001b[39;00m \u001b[39mrun\u001b[39m(\u001b[39mself\u001b[39m, port: \u001b[39mint\u001b[39m \u001b[39m=\u001b[39m \u001b[39m8080\u001b[39m, wait_completion: \u001b[39mbool\u001b[39m \u001b[39m=\u001b[39m \u001b[39mTrue\u001b[39;00m, debug: \u001b[39mbool\u001b[39m \u001b[39m=\u001b[39m \u001b[39mFalse\u001b[39;00m) \u001b[39m-\u001b[39m\u001b[39m>\u001b[39m \u001b[39mbool\u001b[39m \u001b[39m|\u001b[39m \u001b[39mNone\u001b[39;00m:\n\u001b[1;32m    171\u001b[0m \u001b[39m    \u001b[39m\u001b[39m\"\"\"\u001b[39;00m\n\u001b[1;32m    172\u001b[0m \u001b[39m    Run the experiment.\u001b[39;00m\n\u001b[1;32m    173\u001b[0m \n\u001b[0;32m   (...)\u001b[0m\n\u001b[1;32m    178\u001b[0m \u001b[39m    Else if ``wait_completion`` is ``False``, this function will non-block and return None immediately.\u001b[39;00m\n\u001b[1;32m    179\u001b[0m \u001b[39m    \"\"\"\u001b[39;00m\n\u001b[0;32m--> 180\u001b[0m     \u001b[39mself\u001b[39;49m\u001b[39m.\u001b[39;49mstart(port, debug)\n\u001b[1;32m    181\u001b[0m     \u001b[39mif\u001b[39;00m wait_completion:\n\u001b[1;32m    182\u001b[0m         \u001b[39mtry\u001b[39;00m:\n",
      "File \u001b[0;32m~/.cache/pypoetry/virtualenvs/nas-test-OHy8kATa-py3.8/lib/python3.8/site-packages/nni/experiment/experiment.py:135\u001b[0m, in \u001b[0;36mExperiment.start\u001b[0;34m(self, port, debug, run_mode)\u001b[0m\n\u001b[1;32m    119\u001b[0m \u001b[39mdef\u001b[39;00m \u001b[39mstart\u001b[39m(\u001b[39mself\u001b[39m, port: \u001b[39mint\u001b[39m \u001b[39m=\u001b[39m \u001b[39m8080\u001b[39m, debug: \u001b[39mbool\u001b[39m \u001b[39m=\u001b[39m \u001b[39mFalse\u001b[39;00m, run_mode: RunMode \u001b[39m=\u001b[39m RunMode\u001b[39m.\u001b[39mBackground) \u001b[39m-\u001b[39m\u001b[39m>\u001b[39m \u001b[39mNone\u001b[39;00m:\n\u001b[1;32m    120\u001b[0m \u001b[39m    \u001b[39m\u001b[39m\"\"\"\u001b[39;00m\n\u001b[1;32m    121\u001b[0m \u001b[39m    Start the experiment in background.\u001b[39;00m\n\u001b[1;32m    122\u001b[0m \n\u001b[0;32m   (...)\u001b[0m\n\u001b[1;32m    133\u001b[0m \u001b[39m        Running the experiment in foreground or background\u001b[39;00m\n\u001b[1;32m    134\u001b[0m \u001b[39m    \"\"\"\u001b[39;00m\n\u001b[0;32m--> 135\u001b[0m     \u001b[39mself\u001b[39;49m\u001b[39m.\u001b[39;49m_start_impl(port, debug, run_mode, \u001b[39mNone\u001b[39;49;00m, [])\n",
      "File \u001b[0;32m~/.cache/pypoetry/virtualenvs/nas-test-OHy8kATa-py3.8/lib/python3.8/site-packages/nni/experiment/experiment.py:94\u001b[0m, in \u001b[0;36mExperiment._start_impl\u001b[0;34m(self, port, debug, run_mode, tuner_command_channel, tags)\u001b[0m\n\u001b[1;32m     91\u001b[0m \u001b[39mif\u001b[39;00m run_mode \u001b[39mis\u001b[39;00m \u001b[39mnot\u001b[39;00m RunMode\u001b[39m.\u001b[39mDetach:\n\u001b[1;32m     92\u001b[0m     atexit\u001b[39m.\u001b[39mregister(\u001b[39mself\u001b[39m\u001b[39m.\u001b[39mstop)\n\u001b[0;32m---> 94\u001b[0m config \u001b[39m=\u001b[39m \u001b[39mself\u001b[39;49m\u001b[39m.\u001b[39;49mconfig\u001b[39m.\u001b[39;49mcanonical_copy()\n\u001b[1;32m     95\u001b[0m \u001b[39mif\u001b[39;00m config\u001b[39m.\u001b[39muse_annotation:\n\u001b[1;32m     96\u001b[0m     \u001b[39mraise\u001b[39;00m \u001b[39mRuntimeError\u001b[39;00m(\u001b[39m'\u001b[39m\u001b[39mNNI annotation is not supported by Python experiment API.\u001b[39m\u001b[39m'\u001b[39m)\n",
      "File \u001b[0;32m~/.cache/pypoetry/virtualenvs/nas-test-OHy8kATa-py3.8/lib/python3.8/site-packages/nni/experiment/config/base.py:167\u001b[0m, in \u001b[0;36mConfigBase.canonical_copy\u001b[0;34m(self)\u001b[0m\n\u001b[1;32m    165\u001b[0m canon \u001b[39m=\u001b[39m copy\u001b[39m.\u001b[39mdeepcopy(\u001b[39mself\u001b[39m)\n\u001b[1;32m    166\u001b[0m canon\u001b[39m.\u001b[39m_canonicalize([])\n\u001b[0;32m--> 167\u001b[0m canon\u001b[39m.\u001b[39;49m_validate_canonical()\n\u001b[1;32m    168\u001b[0m \u001b[39mreturn\u001b[39;00m canon\n",
      "File \u001b[0;32m~/.cache/pypoetry/virtualenvs/nas-test-OHy8kATa-py3.8/lib/python3.8/site-packages/nni/experiment/config/experiment_config.py:155\u001b[0m, in \u001b[0;36mExperimentConfig._validate_canonical\u001b[0;34m(self)\u001b[0m\n\u001b[1;32m    154\u001b[0m \u001b[39mdef\u001b[39;00m \u001b[39m_validate_canonical\u001b[39m(\u001b[39mself\u001b[39m):\n\u001b[0;32m--> 155\u001b[0m     \u001b[39msuper\u001b[39;49m()\u001b[39m.\u001b[39;49m_validate_canonical()\n\u001b[1;32m    157\u001b[0m     space_cnt \u001b[39m=\u001b[39m (\u001b[39mself\u001b[39m\u001b[39m.\u001b[39msearch_space \u001b[39mis\u001b[39;00m \u001b[39mnot\u001b[39;00m \u001b[39mNone\u001b[39;00m) \u001b[39m+\u001b[39m (\u001b[39mself\u001b[39m\u001b[39m.\u001b[39msearch_space_file \u001b[39mis\u001b[39;00m \u001b[39mnot\u001b[39;00m \u001b[39mNone\u001b[39;00m)\n\u001b[1;32m    158\u001b[0m     \u001b[39mif\u001b[39;00m \u001b[39mself\u001b[39m\u001b[39m.\u001b[39muse_annotation \u001b[39mand\u001b[39;00m space_cnt \u001b[39m!=\u001b[39m \u001b[39m0\u001b[39m:\n",
      "File \u001b[0;32m~/.cache/pypoetry/virtualenvs/nas-test-OHy8kATa-py3.8/lib/python3.8/site-packages/nni/experiment/config/base.py:237\u001b[0m, in \u001b[0;36mConfigBase._validate_canonical\u001b[0;34m(self)\u001b[0m\n\u001b[1;32m    224\u001b[0m \u001b[39mdef\u001b[39;00m \u001b[39m_validate_canonical\u001b[39m(\u001b[39mself\u001b[39m):\n\u001b[1;32m    225\u001b[0m \u001b[39m    \u001b[39m\u001b[39m\"\"\"\u001b[39;00m\n\u001b[1;32m    226\u001b[0m \u001b[39m    To be overrided by subclass.\u001b[39;00m\n\u001b[1;32m    227\u001b[0m \n\u001b[0;32m   (...)\u001b[0m\n\u001b[1;32m    235\u001b[0m \u001b[39m    2. Call ``_validate_canonical()`` on children config objects, including those inside list and dict\u001b[39;00m\n\u001b[1;32m    236\u001b[0m \u001b[39m    \"\"\"\u001b[39;00m\n\u001b[0;32m--> 237\u001b[0m     utils\u001b[39m.\u001b[39;49mvalidate_type(\u001b[39mself\u001b[39;49m)\n\u001b[1;32m    238\u001b[0m     \u001b[39mfor\u001b[39;00m field \u001b[39min\u001b[39;00m utils\u001b[39m.\u001b[39mfields(\u001b[39mself\u001b[39m):\n\u001b[1;32m    239\u001b[0m         value \u001b[39m=\u001b[39m \u001b[39mgetattr\u001b[39m(\u001b[39mself\u001b[39m, field\u001b[39m.\u001b[39mname)\n",
      "File \u001b[0;32m~/.cache/pypoetry/virtualenvs/nas-test-OHy8kATa-py3.8/lib/python3.8/site-packages/nni/experiment/config/utils/internal.py:106\u001b[0m, in \u001b[0;36mvalidate_type\u001b[0;34m(config)\u001b[0m\n\u001b[1;32m    104\u001b[0m     \u001b[39mraise\u001b[39;00m \u001b[39mValueError\u001b[39;00m(\u001b[39mf\u001b[39m\u001b[39m'\u001b[39m\u001b[39m{\u001b[39;00mclass_name\u001b[39m}\u001b[39;00m\u001b[39m: \u001b[39m\u001b[39m{\u001b[39;00mfield\u001b[39m.\u001b[39mname\u001b[39m}\u001b[39;00m\u001b[39m is not set\u001b[39m\u001b[39m'\u001b[39m)\n\u001b[1;32m    105\u001b[0m \u001b[39mif\u001b[39;00m \u001b[39mnot\u001b[39;00m is_instance(value, field\u001b[39m.\u001b[39mtype):\n\u001b[0;32m--> 106\u001b[0m     \u001b[39mraise\u001b[39;00m \u001b[39mValueError\u001b[39;00m(\u001b[39mf\u001b[39m\u001b[39m'\u001b[39m\u001b[39m{\u001b[39;00mclass_name\u001b[39m}\u001b[39;00m\u001b[39m: type of \u001b[39m\u001b[39m{\u001b[39;00mfield\u001b[39m.\u001b[39mname\u001b[39m}\u001b[39;00m\u001b[39m (\u001b[39m\u001b[39m{\u001b[39;00m\u001b[39mrepr\u001b[39m(value)\u001b[39m}\u001b[39;00m\u001b[39m) is not \u001b[39m\u001b[39m{\u001b[39;00mfield\u001b[39m.\u001b[39mtype\u001b[39m}\u001b[39;00m\u001b[39m'\u001b[39m)\n",
      "\u001b[0;31mValueError\u001b[0m: ExperimentConfig: type of experiment_name (None) is not typing.Union[str, NoneType]"
     ]
    }
   ],
   "source": [
    "\n",
    "search_space = {\n",
    "    'lr': {'_type': 'uniform', '_value': [0.01, 0.15]},\n",
    "    'buffer_sise': {'_type': 'normal', '_value': [700, 150]},\n",
    "    'patience': {'_type': 'normal', '_value': [200, 50]},\n",
    "}\n",
    "\n",
    "from nni.experiment import Experiment\n",
    "experiment = Experiment('local')\n",
    "\n",
    "experiment.config.trial_command = 'python model.py'\n",
    "experiment.config.trial_code_directory = '.'\n",
    "experiment.config.search_space = search_space\n",
    "\n",
    "experiment.config.tuner.name = 'TPE'\n",
    "experiment.config.tuner.class_args['optimize_mode'] = 'maximize'\n",
    "\n",
    "experiment.config.max_trial_number = 10\n",
    "experiment.config.trial_concurrency = 2\n",
    "\n",
    "experiment.run(8889)"
   ]
  },
  {
   "cell_type": "code",
   "execution_count": null,
   "metadata": {},
   "outputs": [],
   "source": []
  }
 ],
 "metadata": {
  "kernelspec": {
   "display_name": "nas-test-OHy8kATa-py3.8",
   "language": "python",
   "name": "python3"
  },
  "language_info": {
   "codemirror_mode": {
    "name": "ipython",
    "version": 3
   },
   "file_extension": ".py",
   "mimetype": "text/x-python",
   "name": "python",
   "nbconvert_exporter": "python",
   "pygments_lexer": "ipython3",
   "version": "3.8.10"
  },
  "orig_nbformat": 4
 },
 "nbformat": 4,
 "nbformat_minor": 2
}
