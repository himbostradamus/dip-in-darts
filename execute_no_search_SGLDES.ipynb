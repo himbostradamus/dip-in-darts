{
 "cells": [
  {
   "cell_type": "markdown",
   "metadata": {},
   "source": [
    "# GPU Check"
   ]
  },
  {
   "cell_type": "code",
   "execution_count": null,
   "metadata": {},
   "outputs": [],
   "source": [
    "import GPUtil\n",
    "GPUs = GPUtil.getGPUs()\n",
    "for gpu in GPUs:\n",
    "  print(gpu.name, gpu.memoryTotal)"
   ]
  },
  {
   "cell_type": "markdown",
   "metadata": {},
   "source": [
    "# Imports"
   ]
  },
  {
   "cell_type": "code",
   "execution_count": null,
   "metadata": {},
   "outputs": [],
   "source": [
    "from search_eval.utils.common_utils import *\n",
    "from search_eval.eval_no_search_SGLD_ES import Eval_SGLD_ES, SingleImageDataset\n",
    "\n",
    "from nni.retiarii.evaluator.pytorch import Lightning, Trainer\n",
    "from nni.retiarii.evaluator.pytorch.lightning import DataLoader\n",
    "\n",
    "import numpy as np\n",
    "import torch\n",
    "torch.cuda.empty_cache()\n",
    "\n",
    "dtype = torch.cuda.FloatTensor if torch.cuda.is_available() else torch.FloatTensor\n",
    "print('CUDA available: {}'.format(torch.cuda.is_available()))"
   ]
  },
  {
   "cell_type": "markdown",
   "metadata": {},
   "source": [
    "# Execute"
   ]
  },
  {
   "cell_type": "code",
   "execution_count": null,
   "metadata": {},
   "outputs": [
    {
     "ename": "",
     "evalue": "",
     "output_type": "error",
     "traceback": [
      "\u001b[1;31mThe Kernel crashed while executing code in the the current cell or a previous cell. Please review the code in the cell(s) to identify a possible cause of the failure. Click <a href='https://aka.ms/vscodeJupyterKernelCrash'>here</a> for more info. View Jupyter <a href='command:jupyter.viewOutput'>log</a> for further details."
     ]
    }
   ],
   "source": [
    "# INPUTS\n",
    "\n",
    "# Non HPO inputs\n",
    "total_iterations = 1400\n",
    "show_every = 50\n",
    "\n",
    "# HPO inputs\n",
    "learning_rate = 0.08 #  note a smaller learning rate affecs the SGLD, so overfitting happens FASTER at LOWER learning rates (start with 0.01)\n",
    "patience = 200\n",
    "buffer_size = 500\n",
    "weight_decay=5e-8\n",
    "\n",
    "resolution = 64\n",
    "noise_level = 0.09\n",
    "noise_type = 'gaussian'\n",
    "\n",
    "phantom = np.load(f'phantoms/ground_truth/{resolution}/{45}.npy')\n",
    "phantom_noisy= np.load(f'phantoms/{noise_type}/res_{resolution}/nl_{noise_level}/p_{45}.npy')\n",
    "\n",
    "model = torch.hub.load('mateuszbuda/brain-segmentation-pytorch', 'unet', in_channels=1, out_channels=1, init_features=64, pretrained=False)\n",
    "\n",
    "print(f\"\\n\\n----------------------------------\")\n",
    "print(f'Experiment Configuration:')\n",
    "print(f'\\tTotal Iterations: {total_iterations}')\n",
    "\n",
    "print(f'\\tPatience: {patience}')\n",
    "print(f'\\tBuffer Size: {buffer_size}')\n",
    "print(f'\\tLearning Rate: {learning_rate}')\n",
    "print(f'\\tWeight Decay: {weight_decay}')\n",
    "\n",
    "print(f'\\tImage Resolution: {resolution}')\n",
    "print(f'\\tPlotting every {show_every} iterations')\n",
    "print(f\"----------------------------------\\n\\n\")\n",
    "\n",
    "# Create the lightning module\n",
    "module = Eval_SGLD_ES(\n",
    "                phantom=phantom, \n",
    "                phantom_noisy=phantom_noisy,\n",
    "\n",
    "                learning_rate=learning_rate, \n",
    "                patience=patience,\n",
    "                buffer_size=buffer_size,\n",
    "                weight_decay=weight_decay,\n",
    "                \n",
    "                model=model, # model defaults to U-net \n",
    "                show_every=show_every,\n",
    "                )\n",
    "\n",
    "# Create a PyTorch Lightning trainer\n",
    "trainer = Trainer(\n",
    "            max_epochs=total_iterations,\n",
    "            fast_dev_run=False,\n",
    "            gpus=1,\n",
    "            )\n",
    "            \n",
    "if not hasattr(trainer, 'optimizer_frequencies'):\n",
    "    trainer.optimizer_frequencies = []\n",
    "\n",
    "\n",
    "# Create the lighting object for evaluator\n",
    "train_loader = DataLoader(SingleImageDataset(phantom, num_iter=1), batch_size=1)\n",
    "\n",
    "lightning = Lightning(lightning_module=module, trainer=trainer, train_dataloaders=train_loader, val_dataloaders=None)\n",
    "lightning.fit(model)"
   ]
  },
  {
   "cell_type": "code",
   "execution_count": null,
   "metadata": {},
   "outputs": [],
   "source": []
  }
 ],
 "metadata": {
  "kernelspec": {
   "display_name": "nas-test-OHy8kATa-py3.8",
   "language": "python",
   "name": "python3"
  },
  "language_info": {
   "codemirror_mode": {
    "name": "ipython",
    "version": 3
   },
   "file_extension": ".py",
   "mimetype": "text/x-python",
   "name": "python",
   "nbconvert_exporter": "python",
   "pygments_lexer": "ipython3",
   "version": "3.8.10"
  },
  "orig_nbformat": 4
 },
 "nbformat": 4,
 "nbformat_minor": 2
}
