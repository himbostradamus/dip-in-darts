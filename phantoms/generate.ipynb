{
 "cells": [
  {
   "cell_type": "markdown",
   "metadata": {},
   "source": [
    "# imports"
   ]
  },
  {
   "cell_type": "code",
   "execution_count": 2,
   "metadata": {},
   "outputs": [],
   "source": [
    "from noises import *\n",
    "from phantom import *\n",
    "\n",
    "import torch\n",
    "import torch.nn.functional as F\n",
    "\n",
    "import os\n",
    "import numpy as np\n",
    "import pandas as pd\n",
    "import matplotlib.pyplot as plt\n",
    "from skimage.metrics import peak_signal_noise_ratio as compare_psnr\n",
    "\n",
    "\n",
    "import pandas as pd\n",
    "import numpy as np\n",
    "\n",
    "from skimage.metrics import peak_signal_noise_ratio as compare_psnr\n",
    "from noises import *\n",
    "from phantom import *\n",
    "\n",
    "# suppress warnings\n",
    "import warnings\n",
    "warnings.filterwarnings(\"ignore\")\n",
    "\n",
    "\n",
    "\n",
    "NOISE_FUNCTIONS = {\n",
    "    'gaussian': {'function': add_gaussian_noise, 'param': 'noise_factor'},\n",
    "    'speckle': {'function': add_speckle_noise, 'param': 'noise_factor'},\n",
    "    'uniform': {'function': add_uniform_noise, 'param': 'noise_factor'},\n",
    "    'exponential': {'function': add_exponential_noise, 'param': 'noise_factor'},\n",
    "    'rayleigh': {'function': add_rayleigh_noise, 'param': 'noise_factor'},\n",
    "    'erlang': {'function': add_erlang_noise, 'param': 'noise_factor'},  # You can also add 'scale' depending on what you want to vary\n",
    "    'brownian': {'function': add_brownian_noise, 'param': 'noise_factor'},\n",
    "    'stripe': {'function': add_stripe_noise, 'param': 'noise_factor'},\n",
    "    'multiplicative': {'function': add_multiplicative_noise, 'param': 'noise_factor'}\n",
    "}"
   ]
  },
  {
   "cell_type": "markdown",
   "metadata": {},
   "source": [
    "# create folders"
   ]
  },
  {
   "cell_type": "code",
   "execution_count": null,
   "metadata": {},
   "outputs": [],
   "source": [
    "# make directories\n",
    "for key in NOISE_FUNCTIONS.keys():\n",
    "    os.makedirs(f'./{key}', exist_ok=True)"
   ]
  },
  {
   "cell_type": "code",
   "execution_count": null,
   "metadata": {},
   "outputs": [],
   "source": [
    "# make directories in the ground truth folder for each resolution\n",
    "# 64, 128, 256, 512\n",
    "for res in [64, 128, 256, 512]:\n",
    "    os.makedirs(f'./ground_truth/{res}', exist_ok=True)\n"
   ]
  },
  {
   "cell_type": "markdown",
   "metadata": {},
   "source": [
    "# generate ground truth and sample"
   ]
  },
  {
   "cell_type": "code",
   "execution_count": null,
   "metadata": {},
   "outputs": [],
   "source": [
    "# now generate 50 phantoms for each resolution\n",
    "# save the phantoms to the ground truth folder\n",
    "for res in [6, 7, 8, 9]:\n",
    "    for i in range(50):\n",
    "        # res is 2**res\n",
    "        # so a 64x64 image has a res of 6\n",
    "        phantom = generate_phantom(res)\n",
    "        # save the phantom\n",
    "        # output is a np array\n",
    "        np.save(f'./ground_truth/{2**res}/{i}.npy',phantom)"
   ]
  },
  {
   "cell_type": "code",
   "execution_count": null,
   "metadata": {},
   "outputs": [],
   "source": [
    "# test plotting one of the phantoms\n",
    "\n",
    "for res in [6, 7, 8, 9]:\n",
    "    plt.figure()\n",
    "    plt.imshow(np.load(f'./ground_truth/{2**res}/0.npy').squeeze(), cmap='gray')"
   ]
  },
  {
   "cell_type": "markdown",
   "metadata": {},
   "source": [
    "# test noise"
   ]
  },
  {
   "cell_type": "code",
   "execution_count": null,
   "metadata": {},
   "outputs": [],
   "source": [
    "# test applying each noise function to one of the phantoms\n",
    "# the noise function works like this: add_selected_noise(img, noise_type='gaussian', **kwargs):\n",
    "\n",
    "img = np.load(f'./ground_truth/64/0.npy').squeeze()\n",
    "img_torch = phantom_to_torch(img)\n",
    "\n",
    "for key in NOISE_FUNCTIONS.keys():\n",
    "    plt.figure()\n",
    "    noise_img = add_selected_noise(img_torch, noise_type=key)\n",
    "    # include label of the noise type\n",
    "    plt.title(key)\n",
    "    plt.imshow(noise_img.squeeze(), cmap='gray', )"
   ]
  },
  {
   "cell_type": "markdown",
   "metadata": {},
   "source": [
    "# not all noise is equal"
   ]
  },
  {
   "cell_type": "code",
   "execution_count": 3,
   "metadata": {},
   "outputs": [],
   "source": [
    "### this first finds the average PSNR that corresponds to gaussian noise for leves [.05, .09, .15, .20]\n",
    "### then it uses this average PSNR to target the input parameter for each noise function\n",
    "### the output is a csv file with the noise type, resolution, noise level, noise factor, and PSNR\n",
    "\n",
    "### this is a hacky way to approximate \"equivalent noise levels\" for each noise type\n",
    "\n",
    "NOISE_FUNCTIONS = {\n",
    "    'gaussian': {'function': add_gaussian_noise, 'param': 'noise_factor'},\n",
    "    'speckle': {'function': add_speckle_noise, 'param': 'noise_factor'},\n",
    "    'uniform': {'function': add_uniform_noise, 'param': 'noise_factor'},\n",
    "    'exponential': {'function': add_exponential_noise, 'param': 'noise_factor'},\n",
    "    'rayleigh': {'function': add_rayleigh_noise, 'param': 'noise_factor'},\n",
    "    'erlang': {'function': add_erlang_noise, 'param': 'noise_factor'},  # You can also add 'scale' depending on what you want to vary\n",
    "    'brownian': {'function': add_brownian_noise, 'param': 'noise_factor'},\n",
    "    'stripe': {'function': add_stripe_noise, 'param': 'noise_factor'},\n",
    "    'multiplicative': {'function': add_multiplicative_noise, 'param': 'noise_factor'}\n",
    "}\n",
    "\n",
    "def find_noise_factor(target_psnr, img_torch, noise_type):\n",
    "    candidate_factors = np.linspace(0.001, 1, 10000)  # You can customize this range and granularity\n",
    "    for noise_factor in candidate_factors:\n",
    "        e_noise_img = add_selected_noise(img_torch, noise_type=noise_type, noise_factor=noise_factor)\n",
    "\n",
    "        if np.isclose(compare_psnr(img_torch.numpy(), e_noise_img.numpy()), target_psnr, atol=0.1):  # tolerance level\n",
    "            return noise_factor\n",
    "    return None\n",
    "    \n",
    "def find_and_save_noise_factors(\n",
    "        NOISE_FUNCTIONS,\n",
    "        resolutions=[64, 128], \n",
    "        gaussian_levels=[0.05, 0.09, 0.15, 0.20], \n",
    "        num_gaussian_samples=100, \n",
    "        num_samples = 1000, \n",
    "        ):\n",
    "    rows = []\n",
    "\n",
    "    for resolution in resolutions:\n",
    "        print(f'Starting resolution: {resolution}')\n",
    "        csv_file_name= f'noise_analysis_{resolution}res.csv'\n",
    "        img = np.load(f'./ground_truth/{resolution}/0.npy').squeeze()\n",
    "        img_torch = phantom_to_torch(img)\n",
    "\n",
    "        for gaussian_level in gaussian_levels:\n",
    "            print(f'\\tStarting Gaussian Level: {gaussian_level}')\n",
    "            target_psnr_sum = 0\n",
    "            num_gaussian_samples = 10  # Number of Gaussian noise samples to average over\n",
    "\n",
    "            for _ in range(num_gaussian_samples):\n",
    "                g_noise_img = add_selected_noise(img_torch, noise_type='gaussian', noise_factor=gaussian_level)\n",
    "                target_psnr_sum += compare_psnr(img_torch.numpy(), g_noise_img.numpy())\n",
    "\n",
    "            avg_target_psnr = target_psnr_sum / num_gaussian_samples\n",
    "\n",
    "            for noise_type in NOISE_FUNCTIONS.keys():\n",
    "                print(f'\\t\\tStarting Noise Type: {noise_type}')\n",
    "                noise_factor_sum = 0  # Initialize sum\n",
    "                num_samples = 1000  # Number of samples for other noises\n",
    "\n",
    "                for _ in range(num_samples):\n",
    "                    factor = find_noise_factor(avg_target_psnr, img_torch, noise_type)\n",
    "                    noise_factor_sum += factor if factor is not None else 0\n",
    "                \n",
    "                avg_noise_factor = noise_factor_sum / num_samples if num_samples != 0 else 0\n",
    "                \n",
    "                # Save row\n",
    "                rows.append([noise_type, resolution, gaussian_level, avg_noise_factor, \"NA\", avg_target_psnr])\n",
    "\n",
    "                # Create DataFrame and save to CSV\n",
    "                df = pd.DataFrame(rows, columns=[\"Noise_Type\", \"Resolution\", \"NL\", \"NF1\", \"NF2\", \"PSNR\"])\n",
    "                df.to_csv(csv_file_name, index=False)\n",
    "\n"
   ]
  },
  {
   "cell_type": "code",
   "execution_count": 4,
   "metadata": {},
   "outputs": [
    {
     "name": "stdout",
     "output_type": "stream",
     "text": [
      "Starting resolution: 128\n",
      "\tStarting Gaussian Level: 0.05\n",
      "\t\tStarting Noise Type: gaussian\n",
      "\t\tStarting Noise Type: speckle\n",
      "\t\tStarting Noise Type: uniform\n",
      "\t\tStarting Noise Type: exponential\n",
      "\t\tStarting Noise Type: rayleigh\n"
     ]
    }
   ],
   "source": [
    "# exectute the function\n",
    "# this one can take a long time so partion or run somewhere else\n",
    "find_and_save_noise_factors(\n",
    "    NOISE_FUNCTIONS, \n",
    "    resolutions=[128],\n",
    "    num_gaussian_samples=10, \n",
    "    num_samples = 100, \n",
    "    )"
   ]
  },
  {
   "cell_type": "markdown",
   "metadata": {},
   "source": [
    "# check results"
   ]
  },
  {
   "cell_type": "code",
   "execution_count": null,
   "metadata": {},
   "outputs": [],
   "source": [
    "resolution = 128\n",
    "noise_df = pd.read_csv(f'noise_analysis_{resolution}res.csv')\n",
    "\n",
    "for key in NOISE_FUNCTIONS.keys():\n",
    "    print(f'\\n----------------------------------\\nNoise Type: {key}\\n')\n",
    "    print(f\"\\t{'Resolution':<12}{'NL':<10}{'NF':<10}{'PSNR':<10}{'Target PSNR':<15}{'PSNR Error':<15}\")\n",
    "    for res in [6, 7]:\n",
    "        resolution = 2**res\n",
    "        for noise_level in [0.05, 0.09, 0.15, 0.20]:\n",
    "            # Load the phantom\n",
    "            img = np.load(f'./ground_truth/{2**res}/0.npy').squeeze()\n",
    "            img_torch = phantom_to_torch(img)\n",
    "            \n",
    "            target_psnr = noise_df[\n",
    "                (noise_df['Noise_Type'] == key) &\n",
    "                (noise_df['Resolution'] == resolution) &\n",
    "                (noise_df['NL'] == noise_level)\n",
    "            ]['PSNR'].values[0]\n",
    "            \n",
    "            noise_factor = noise_df[\n",
    "                (noise_df['Noise_Type'] == key) &\n",
    "                (noise_df['Resolution'] == resolution) &\n",
    "                (noise_df['NL'] == noise_level)\n",
    "            ]['NF1'].values[0]\n",
    "                \n",
    "            # Add noise to the image\n",
    "            noise_img = add_selected_noise(img_torch, noise_type=key, noise_factor=noise_factor)\n",
    "            \n",
    "            # Calculate the psnr\n",
    "            psnr = round(compare_psnr(img_torch.numpy(), noise_img.numpy()),3)\n",
    "\n",
    "            psnr_error = round(abs(psnr-target_psnr), 3)\n",
    "            print(f\"\\t{resolution:<12}{noise_level:<10}{noise_factor:<10}{psnr:<10.4f}{target_psnr:<15.4f}{psnr_error:<15.3f}\")"
   ]
  },
  {
   "cell_type": "code",
   "execution_count": null,
   "metadata": {},
   "outputs": [],
   "source": [
    "# check with plots\n",
    "# resolution = 128\n",
    "noise_df = pd.read_csv(f'noise_analysis_{resolution}res.csv')\n",
    "\n",
    "for key in NOISE_FUNCTIONS.keys():\n",
    "    for res in [6]:\n",
    "        resolution = 2**res\n",
    "        for noise_level in [0.05, 0.09, 0.15, 0.20]:\n",
    "            # Load the phantom\n",
    "            img = np.load(f'./ground_truth/{2**res}/0.npy').squeeze()\n",
    "            img_torch = phantom_to_torch(img)\n",
    "            \n",
    "            target_psnr = noise_df[\n",
    "                (noise_df['Noise_Type'] == key) &\n",
    "                (noise_df['Resolution'] == resolution) &\n",
    "                (noise_df['NL'] == noise_level)\n",
    "            ]['PSNR'].values[0]\n",
    "            \n",
    "            noise_factor = noise_df[\n",
    "                (noise_df['Noise_Type'] == key) &\n",
    "                (noise_df['Resolution'] == resolution) &\n",
    "                (noise_df['NL'] == noise_level)\n",
    "            ]['NF1'].values[0]\n",
    "\n",
    "            # if key == \"brownian\":\n",
    "            #     noise_factor *= 1.5\n",
    "\n",
    "            # if key == \"stripe\":\n",
    "            #     noise_factor *= 1.5\n",
    "\n",
    "            # Add noise to the image\n",
    "            noise_img = add_selected_noise(img_torch, noise_type=key, noise_factor=noise_factor)\n",
    "\n",
    "            # calculate the psnr\n",
    "            psnr = round(compare_psnr(img_torch.numpy(), noise_img.numpy()),4)\n",
    "            print(f'PSNR: {psnr} -- Target PSNR: {round(target_psnr,4)} -- Noise Level: {round(noise_level,4)} -- Noise Factor: {round(noise_factor,4)}')\n",
    "\n",
    "            # plot noise image and clean image side by side\n",
    "            plt.figure()\n",
    "            plt.subplot(1, 2, 1)\n",
    "            plt.imshow(img, cmap='gray')\n",
    "            plt.title('Original')\n",
    "            plt.subplot(1, 2, 2)\n",
    "            plt.imshow(noise_img.squeeze(), cmap='gray')\n",
    "            plt.title(f'{key.capitalize()} Noise')\n",
    "            # wait a few seconds before move on to allow time to view the image\n",
    "            plt.show(block=False)\n",
    "            # plt.imshow(img, cmap='gray')\n"
   ]
  },
  {
   "cell_type": "markdown",
   "metadata": {},
   "source": [
    "# now create noise level and resolution subfolders in the sample folder"
   ]
  },
  {
   "cell_type": "code",
   "execution_count": null,
   "metadata": {},
   "outputs": [],
   "source": [
    "# first resolution subfolders 64, 128, 256, 512\n",
    "# next noise level subfolders 0.05, 0.09, .15, .20\n",
    "\n",
    "# these are subfolders of the noise type folders, which are subfolders of the current directory\n",
    "# so the path is ./noise_type/resolution/noise_level/phantom_phantomid_noisetype_noiselevel.npy\n",
    "for key in NOISE_FUNCTIONS.keys():\n",
    "    for res in [6, 7, 8, 9]:\n",
    "        for noise_level in [0.05, 0.09, 0.15, 0.20]:\n",
    "            # only create the folder if it doesn't exist\n",
    "            os.makedirs(f'./{key}/resolution_{2**res}/noise_level_{noise_level}', exist_ok=True)"
   ]
  },
  {
   "cell_type": "markdown",
   "metadata": {},
   "source": [
    "# now apply these noise levels to the ground truth"
   ]
  },
  {
   "cell_type": "code",
   "execution_count": null,
   "metadata": {},
   "outputs": [],
   "source": [
    "# finally we create the noisy phantoms\n",
    "\n",
    "resolution = 128\n",
    "\n",
    "noise_df = pd.read_csv(f'noise_analysis_{resolution}res.csv')\n",
    "for key in NOISE_FUNCTIONS.keys():\n",
    "    for img_id in range(50):\n",
    "        img_np = np.load(f'./ground_truth/64/{img_id}.npy').squeeze()\n",
    "        img_torch = phantom_to_torch(img_np)\n",
    "        for noise_level in [0.05, 0.09, 0.15, 0.20]:\n",
    "            noise_factor = noise_df[\n",
    "                (noise_df['Noise_Type'] == key) &\n",
    "                (noise_df['Resolution'] == 64) &\n",
    "                (noise_df['NL'] == noise_level)\n",
    "            ]['NF1'].values[0]\n",
    "            noise_img = add_selected_noise(img_torch, noise_type=key, noise_factor=noise_factor)\n",
    "            # save the image\n",
    "            np.save(f'./{key}/res_64/nl_{noise_level}/p_{img_id}.npy', noise_img.numpy())\n",
    "            print(f'Completed {key}-{img_id} noise with noise level {noise_level}')"
   ]
  }
 ],
 "metadata": {
  "kernelspec": {
   "display_name": "nas-test-OHy8kATa-py3.8",
   "language": "python",
   "name": "python3"
  },
  "language_info": {
   "codemirror_mode": {
    "name": "ipython",
    "version": 3
   },
   "file_extension": ".py",
   "mimetype": "text/x-python",
   "name": "python",
   "nbconvert_exporter": "python",
   "pygments_lexer": "ipython3",
   "version": "3.8.10"
  },
  "orig_nbformat": 4
 },
 "nbformat": 4,
 "nbformat_minor": 2
}
