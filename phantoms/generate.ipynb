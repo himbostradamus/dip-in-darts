{
 "cells": [
  {
   "cell_type": "markdown",
   "metadata": {},
   "source": [
    "# imports"
   ]
  },
  {
   "cell_type": "code",
   "execution_count": null,
   "metadata": {},
   "outputs": [],
   "source": [
    "from noises import *\n",
    "from phantom import *\n",
    "\n",
    "import torch\n",
    "import torch.nn.functional as F\n",
    "\n",
    "import os\n",
    "import numpy as np\n",
    "import pandas as pd\n",
    "import matplotlib.pyplot as plt\n",
    "from skimage.metrics import peak_signal_noise_ratio as compare_psnr"
   ]
  },
  {
   "cell_type": "markdown",
   "metadata": {},
   "source": [
    "# create folders"
   ]
  },
  {
   "cell_type": "code",
   "execution_count": null,
   "metadata": {},
   "outputs": [],
   "source": [
    "# make directories\n",
    "for key in NOISE_FUNCTIONS.keys():\n",
    "    os.makedirs(f'./{key}', exist_ok=True)"
   ]
  },
  {
   "cell_type": "code",
   "execution_count": null,
   "metadata": {},
   "outputs": [],
   "source": [
    "# make directories in the ground truth folder for each resolution\n",
    "# 64, 128, 256, 512\n",
    "for res in [64, 128, 256, 512]:\n",
    "    os.makedirs(f'./ground_truth/{res}', exist_ok=True)\n"
   ]
  },
  {
   "cell_type": "markdown",
   "metadata": {},
   "source": [
    "# generate ground truth and sample"
   ]
  },
  {
   "cell_type": "code",
   "execution_count": null,
   "metadata": {},
   "outputs": [],
   "source": [
    "# now generate 50 phantoms for each resolution\n",
    "# save the phantoms to the ground truth folder\n",
    "for res in [6, 7, 8, 9]:\n",
    "    for i in range(50):\n",
    "        # res is 2**res\n",
    "        # so a 64x64 image has a res of 6\n",
    "        phantom = generate_phantom(res)\n",
    "        # save the phantom\n",
    "        # output is a np array\n",
    "        np.save(f'./ground_truth/{2**res}/{i}.npy',phantom)"
   ]
  },
  {
   "cell_type": "code",
   "execution_count": null,
   "metadata": {},
   "outputs": [],
   "source": [
    "# test plotting one of the phantoms\n",
    "\n",
    "for res in [6, 7, 8, 9]:\n",
    "    plt.figure()\n",
    "    plt.imshow(np.load(f'./ground_truth/{2**res}/0.npy').squeeze(), cmap='gray')"
   ]
  },
  {
   "cell_type": "markdown",
   "metadata": {},
   "source": [
    "# test noise"
   ]
  },
  {
   "cell_type": "code",
   "execution_count": null,
   "metadata": {},
   "outputs": [],
   "source": [
    "# test applying each noise function to one of the phantoms\n",
    "# the noise function works like this: add_selected_noise(img, noise_type='gaussian', **kwargs):\n",
    "\n",
    "img = np.load(f'./ground_truth/64/0.npy').squeeze()\n",
    "img_torch = phantom_to_torch(img)\n",
    "\n",
    "for key in NOISE_FUNCTIONS.keys():\n",
    "    plt.figure()\n",
    "    noise_img = add_selected_noise(img_torch, noise_type=key)\n",
    "    # include label of the noise type\n",
    "    plt.title(key)\n",
    "    plt.imshow(noise_img.squeeze(), cmap='gray', )"
   ]
  },
  {
   "cell_type": "markdown",
   "metadata": {},
   "source": [
    "# note all noise is equal"
   ]
  },
  {
   "cell_type": "code",
   "execution_count": null,
   "metadata": {},
   "outputs": [],
   "source": [
    "\n",
    "NOISE_FUNCTIONS = {\n",
    "    'gaussian': {'function': add_gaussian_noise, 'param': 'noise_factor'},\n",
    "    'salt_and_pepper': {'function': add_salt_and_pepper_noise, 'param': 'salt_prob'},  # Or 'pepper_prob'\n",
    "    'speckle': {'function': add_speckle_noise, 'param': 'noise_factor'},\n",
    "    'poisson': {'function': add_poisson_noise, 'param': None},\n",
    "    'uniform': {'function': add_uniform_noise, 'param': 'noise_factor'},\n",
    "    'exponential': {'function': add_exponential_noise, 'param': 'scale'},\n",
    "    'rayleigh': {'function': add_rayleigh_noise, 'param': 'scale'},\n",
    "    'erlang': {'function': add_erlang_noise, 'param': 'shape'},  # You can also add 'scale' depending on what you want to vary\n",
    "    'brownian': {'function': add_brownian_noise, 'param': 'noise_factor'},\n",
    "    'quantization': {'function': add_quantization_noise, 'param': 'levels'},\n",
    "    'stripe': {'function': add_stripe_noise, 'param': 'noise_factor'},\n",
    "    'multiplicative': {'function': add_multiplicative_noise, 'param': 'noise_factor'}\n",
    "}\n",
    "\n",
    "\n",
    "def psnr(input, target, max_val=1.):\n",
    "    mse = F.mse_loss(input, target)\n",
    "    return 20 * torch.log10(max_val / torch.sqrt(mse))\n",
    "\n",
    "def find_noise_factor_for_psnr(target_psnr, img, noise_function, param_name, max_iter=1000, tol=1e-2, **kwargs):\n",
    "    low, high = 0., 1.\n",
    "    for i in range(max_iter):\n",
    "        mid = (low + high) / 2\n",
    "        kwargs[param_name] = mid\n",
    "        noisy_img = noise_function(img, **kwargs)\n",
    "        current_psnr = psnr(img, noisy_img)\n",
    "        if (target_psnr - tol) <= current_psnr <= (target_psnr + tol):\n",
    "            return mid\n",
    "        if current_psnr < target_psnr:\n",
    "            high = mid\n",
    "        else:\n",
    "            low = mid\n",
    "    return mid\n",
    "\n",
    "\n",
    "img = np.load(f'./ground_truth/64/0.npy').squeeze()\n",
    "img_torch = phantom_to_torch(img)\n",
    "target_psnr_value = 27.6 # Replace with your target PSNR value\n",
    "\n",
    "for key, val in NOISE_FUNCTIONS.items():\n",
    "    noise_func = val['function']\n",
    "    param_name = val['param']\n",
    "    if param_name:  # Skip noise functions that do not have a parameter to optimize\n",
    "        optimal_noise_factor = find_noise_factor_for_psnr(target_psnr_value, img_torch, noise_func, param_name)\n",
    "        # round the values to 5 decimal places\n",
    "        print(f\"Optimal {param_name} for {key} noise to achieve PSNR ~ {target_psnr_value}: {round(optimal_noise_factor, 5)}\")\n",
    "\n",
    "\n"
   ]
  },
  {
   "cell_type": "code",
   "execution_count": null,
   "metadata": {},
   "outputs": [],
   "source": [
    "# now do this for 1000 runs and average the results\n",
    "# save the results to a csv file\n",
    "\n",
    "# will need to adjust salt and pepper as that is the only one that has two parameters\n",
    "\n",
    "img = np.load(f'./ground_truth/64/0.npy').squeeze()\n",
    "img_torch = phantom_to_torch(img)\n",
    "target_psnr_value = 15.7\n",
    "\n",
    "num_runs = 1000  # Number of times to run the optimization for each noise type\n",
    "optimal_factors_table = {}  # Initialize an empty dictionary to store the results\n",
    "\n",
    "for key, val in NOISE_FUNCTIONS.items():\n",
    "    noise_func = val['function']\n",
    "    param_name = val['param']\n",
    "    if param_name:  # Skip noise functions that do not have a parameter to optimize\n",
    "        optimal_factors = []\n",
    "        for i in range(num_runs):\n",
    "            optimal_factor = find_noise_factor_for_psnr(target_psnr_value, img_torch, noise_func, param_name)\n",
    "            optimal_factors.append(optimal_factor)\n",
    "\n",
    "        avg_optimal_factor = np.mean(optimal_factors)\n",
    "        # Round the values to 5 decimal places\n",
    "        optimal_factors_table[key] = round(avg_optimal_factor, 5)\n",
    "\n",
    "# Convert the dictionary to a Pandas DataFrame for better visual representation and ease of exporting\n",
    "df = pd.DataFrame(list(optimal_factors_table.items()), columns=['Noise_Type', 'Avg_Optimal_Factor'])\n",
    "\n",
    "# Print the DataFrame to view the results\n",
    "print(df)\n",
    "\n",
    "# Save the DataFrame to a CSV file\n",
    "df.to_csv('optimal_noise_factors_matching20g.csv', index=False)"
   ]
  },
  {
   "cell_type": "markdown",
   "metadata": {},
   "source": [
    "# and the 2d salt and pepper case"
   ]
  },
  {
   "cell_type": "code",
   "execution_count": null,
   "metadata": {},
   "outputs": [],
   "source": [
    "\n",
    "def find_noise_factor_for_psnr_2D(target_psnr, img, noise_function, param_names, max_iter=1000, tol=1e-2, **kwargs):\n",
    "    opt_params = {}\n",
    "    for param1 in np.linspace(0, 1, max_iter):\n",
    "        for param2 in np.linspace(0, 1, max_iter):\n",
    "            kwargs[param_names[0]] = param1\n",
    "            kwargs[param_names[1]] = param2\n",
    "            noisy_img = noise_function(img, **kwargs)\n",
    "            current_psnr = psnr(img, noisy_img)\n",
    "            if (target_psnr - tol) <= current_psnr <= (target_psnr + tol):\n",
    "                opt_params[(round(param1, 5), round(param2, 5))] = current_psnr\n",
    "    return opt_params\n",
    "\n",
    "def psnr(input, target, max_val=1.):\n",
    "    mse = F.mse_loss(input, target)\n",
    "    return 20 * torch.log10(max_val / torch.sqrt(mse))\n",
    "\n",
    "img = np.load(f'./ground_truth/64/0.npy').squeeze()\n",
    "img_torch = phantom_to_torch(img)\n",
    "target_psnr_value = 27.6\n",
    "\n",
    "# For salt and pepper noise\n",
    "optimal_salt_pepper_params = find_noise_factor_for_psnr_2D(target_psnr_value, img_torch, add_salt_and_pepper_noise, ['salt_prob', 'pepper_prob'])\n",
    "\n",
    "# Convert the dictionary to a Pandas DataFrame for better representation and export\n",
    "df_salt_pepper = pd.DataFrame(list(optimal_salt_pepper_params.items()), columns=['(Salt_prob, Pepper_prob)', 'PSNR'])\n",
    "\n",
    "# Print or save to CSV\n",
    "print(df_salt_pepper)"
   ]
  },
  {
   "cell_type": "markdown",
   "metadata": {},
   "source": [
    "# all but quantization noise looks good - not the right noise for denoising anyway"
   ]
  },
  {
   "cell_type": "code",
   "execution_count": null,
   "metadata": {},
   "outputs": [],
   "source": [
    "\n",
    "img = np.load(f'./ground_truth/64/0.npy').squeeze()\n",
    "img_torch = phantom_to_torch(img)\n",
    "\n",
    "# add {type} noise to the image\n",
    "noise_type = 'quantization'\n",
    "noise_img = add_selected_noise(img_torch, noise_type=noise_type, levels=2.0)\n",
    "\n",
    "# plot the images side by side\n",
    "plt.figure()\n",
    "plt.subplot(1, 2, 1)\n",
    "plt.imshow(img, cmap='gray')\n",
    "plt.title('Original')\n",
    "plt.subplot(1, 2, 2)\n",
    "plt.imshow(noise_img.squeeze(), cmap='gray')\n",
    "plt.title(f'{noise_type} Noise')\n",
    "\n",
    "# calculate the psnr\n",
    "# these need to be numpy arrays\n",
    "psnr = compare_psnr(img_torch.numpy(), noise_img.numpy())\n",
    "print(f'PSNR: {psnr}')"
   ]
  },
  {
   "cell_type": "markdown",
   "metadata": {},
   "source": [
    "# now create noise level and resolution subfolders in the sample folder"
   ]
  },
  {
   "cell_type": "code",
   "execution_count": null,
   "metadata": {},
   "outputs": [],
   "source": [
    "# first resolution subfolders 64, 128, 256, 512\n",
    "# next noise level subfolders 0.05, 0.09, .15, .20\n",
    "\n",
    "# these are subfolders of the noise type folders, which are subfolders of the current directory\n",
    "# so the path is ./noise_type/resolution/noise_level/phantom_phantomid_noisetype_noiselevel.npy\n",
    "for key in NOISE_FUNCTIONS.keys():\n",
    "    for res in [6, 7, 8, 9]:\n",
    "        for noise_level in [0.05, 0.09, 0.15, 0.20]:\n",
    "            # only create the folder if it doesn't exist\n",
    "            os.makedirs(f'./{key}/resolution_{2**res}/noise_level_{noise_level}', exist_ok=True)"
   ]
  },
  {
   "cell_type": "markdown",
   "metadata": {},
   "source": [
    "# now apply these noise levels to the ground truth"
   ]
  },
  {
   "cell_type": "code",
   "execution_count": 162,
   "metadata": {},
   "outputs": [
    {
     "name": "stdout",
     "output_type": "stream",
     "text": [
      "\n",
      "----------------------------------\n",
      "Noise Type: gaussian\n",
      "\n",
      "\tResolution  NF        PSNR      Target PSNR    PSNR Error     \n"
     ]
    },
    {
     "ename": "NameError",
     "evalue": "name 'noise_factor' is not defined",
     "output_type": "error",
     "traceback": [
      "\u001b[0;31m---------------------------------------------------------------------------\u001b[0m",
      "\u001b[0;31mNameError\u001b[0m                                 Traceback (most recent call last)",
      "Cell \u001b[0;32mIn[162], line 60\u001b[0m\n\u001b[1;32m     57\u001b[0m psnr \u001b[39m=\u001b[39m \u001b[39mround\u001b[39m(compare_psnr(img_torch\u001b[39m.\u001b[39mnumpy(), noise_img\u001b[39m.\u001b[39mnumpy()),\u001b[39m3\u001b[39m)\n\u001b[1;32m     59\u001b[0m psnr_error \u001b[39m=\u001b[39m \u001b[39mround\u001b[39m(\u001b[39mabs\u001b[39m(psnr\u001b[39m-\u001b[39mtarget_psnr), \u001b[39m3\u001b[39m)\n\u001b[0;32m---> 60\u001b[0m \u001b[39mprint\u001b[39m(\u001b[39mf\u001b[39m\u001b[39m\"\u001b[39m\u001b[39m\\t\u001b[39;00m\u001b[39m{\u001b[39;00m\u001b[39m2\u001b[39m\u001b[39m*\u001b[39m\u001b[39m*\u001b[39mres\u001b[39m:\u001b[39;00m\u001b[39m<12\u001b[39m\u001b[39m}\u001b[39;00m\u001b[39m{\u001b[39;00mnoise_factor\u001b[39m:\u001b[39;00m\u001b[39m<10\u001b[39m\u001b[39m}\u001b[39;00m\u001b[39m{\u001b[39;00mpsnr\u001b[39m:\u001b[39;00m\u001b[39m<10.4f\u001b[39m\u001b[39m}\u001b[39;00m\u001b[39m{\u001b[39;00mtarget_psnr\u001b[39m:\u001b[39;00m\u001b[39m<15.4f\u001b[39m\u001b[39m}\u001b[39;00m\u001b[39m{\u001b[39;00mpsnr_error\u001b[39m:\u001b[39;00m\u001b[39m<15.3f\u001b[39m\u001b[39m}\u001b[39;00m\u001b[39m\"\u001b[39m)\n\u001b[1;32m     63\u001b[0m \u001b[39m# plot the images side by side\u001b[39;00m\n\u001b[1;32m     64\u001b[0m \u001b[39m# plt.figure()\u001b[39;00m\n\u001b[1;32m     65\u001b[0m \u001b[39m# # title plot with noise type, resolution, and noise level\u001b[39;00m\n\u001b[0;32m   (...)\u001b[0m\n\u001b[1;32m     73\u001b[0m \u001b[39m# plt.show()\u001b[39;00m\n\u001b[1;32m     74\u001b[0m \u001b[39m# plt.close()\u001b[39;00m\n",
      "\u001b[0;31mNameError\u001b[0m: name 'noise_factor' is not defined"
     ]
    }
   ],
   "source": [
    "# apply to the first 64 res phantom and plot for sanity check first\n",
    "# calculate the psnr\n",
    "# these need to be numpy arrays\n",
    "\n",
    "noise_level_table_20 = pd.read_csv('optimal_noise_factors_matching20g.csv')\n",
    "noise_level_table_15 = pd.read_csv('optimal_noise_factors_matching15g.csv')\n",
    "noise_level_table_9 = pd.read_csv('optimal_noise_factors_matching9g.csv')\n",
    "noise_level_table_5 = pd.read_csv('optimal_noise_factors_matching5g.csv')\n",
    "\n",
    "for key in NOISE_FUNCTIONS.keys():\n",
    "    print(f'\\n----------------------------------\\nNoise Type: {key}\\n')\n",
    "    print(f\"\\t{'Resolution':<12}{'NF':<10}{'PSNR':<10}{'Target PSNR':<15}{'PSNR Error':<15}\")\n",
    "    for res in [6, 7, 8, 9]:\n",
    "        for noise_level in [0.05, 0.09, 0.15, 0.20]:\n",
    "            # load the phantom\n",
    "            img = np.load(f'./ground_truth/{2**res}/0.npy').squeeze()\n",
    "            img_torch = phantom_to_torch(img)\n",
    "            \n",
    "            if noise_level == 0.05:\n",
    "                target_psnr = 27.6\n",
    "            elif noise_level == 0.09:\n",
    "                target_psnr = 22\n",
    "            elif noise_level == 0.15:\n",
    "                target_psnr = 18.2\n",
    "            elif noise_level == 0.20:\n",
    "                target_psnr = 15.7\n",
    "\n",
    "            # Initialize an empty dictionary for noise parameters\n",
    "            noise_kwargs = {}\n",
    "\n",
    "            # now import the noise level that is actually used:\n",
    "            # match key to Noise_Type and return Avg_Optimal_Factor\n",
    "            # use if else to get right table\n",
    "            if int(noise_level*10) == 20:\n",
    "                noise_factor = noise_level_table_20.loc[noise_level_table_20['Noise_Type'] == key]['Avg_Optimal_Factor'].values[0]\n",
    "            elif int(noise_level*10) == 15:\n",
    "                noise_factor = noise_level_table_15.loc[noise_level_table_15['Noise_Type'] == key]['Avg_Optimal_Factor'].values[0]\n",
    "            elif int(noise_level*10) == 9:\n",
    "                noise_factor = noise_level_table_9.loc[noise_level_table_9['Noise_Type'] == key]['Avg_Optimal_Factor'].values[0]\n",
    "            elif int(noise_level*10) == 5:\n",
    "                noise_factor = noise_level_table_5.loc[noise_level_table_5['Noise_Type'] == key]['Avg_Optimal_Factor'].values[0]\n",
    "            \n",
    "            # Special cases for certain noise types\n",
    "            if param_name:  # Check if a param_name exists\n",
    "                noise_kwargs[param_name] = noise_level\n",
    "            \n",
    "            if key == 'salt_and_pepper':  # Special case for salt_and_pepper\n",
    "                noise_kwargs = {'salt_prob': noise_level, 'pepper_prob': noise_level}\n",
    "            \n",
    "            if key == 'poisson':  # Special case for Poisson\n",
    "                noise_kwargs = {}  # Poisson doesn't require any additional arguments\n",
    "                \n",
    "            # Add noise to the image\n",
    "            noise_img = add_selected_noise(img_torch, noise_type=key, **noise_kwargs)\n",
    "            \n",
    "            # Calculate the psnr\n",
    "            psnr = round(compare_psnr(img_torch.numpy(), noise_img.numpy()),3)\n",
    "\n",
    "            psnr_error = round(abs(psnr-target_psnr), 3)\n",
    "            print(f\"\\t{2**res:<12}{noise_factor:<10}{psnr:<10.4f}{target_psnr:<15.4f}{psnr_error:<15.3f}\")\n",
    "\n",
    "\n",
    "            # plot the images side by side\n",
    "            # plt.figure()\n",
    "            # # title plot with noise type, resolution, and noise level\n",
    "            # plt.suptitle(f'{key.capitalize()} Noise -- Resolution: {2**res}x{2**res} \\nNoise Level: {noise_level}')\n",
    "            # plt.subplot(1, 2, 1)\n",
    "            # plt.imshow(img, cmap='gray')\n",
    "            # plt.title('Original')\n",
    "            # plt.subplot(1, 2, 2)\n",
    "            # plt.imshow(noise_img.squeeze(), cmap='gray')\n",
    "            # plt.title(f'{key.capitalize()} Noise')\n",
    "            # plt.show()\n",
    "            # plt.close()"
   ]
  },
  {
   "cell_type": "code",
   "execution_count": null,
   "metadata": {},
   "outputs": [],
   "source": []
  }
 ],
 "metadata": {
  "kernelspec": {
   "display_name": "nas-test-OHy8kATa-py3.8",
   "language": "python",
   "name": "python3"
  },
  "language_info": {
   "codemirror_mode": {
    "name": "ipython",
    "version": 3
   },
   "file_extension": ".py",
   "mimetype": "text/x-python",
   "name": "python",
   "nbconvert_exporter": "python",
   "pygments_lexer": "ipython3",
   "version": "3.8.10"
  },
  "orig_nbformat": 4
 },
 "nbformat": 4,
 "nbformat_minor": 2
}
