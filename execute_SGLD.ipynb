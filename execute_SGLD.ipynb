{
 "cells": [
  {
   "cell_type": "markdown",
   "metadata": {},
   "source": [
    "# GPU Check"
   ]
  },
  {
   "cell_type": "code",
   "execution_count": null,
   "metadata": {},
   "outputs": [],
   "source": [
    "import GPUtil\n",
    "GPUs = GPUtil.getGPUs()\n",
    "for gpu in GPUs:\n",
    "  print(gpu.name, gpu.memoryTotal)"
   ]
  },
  {
   "cell_type": "markdown",
   "metadata": {},
   "source": [
    "# Imports"
   ]
  },
  {
   "cell_type": "code",
   "execution_count": null,
   "metadata": {},
   "outputs": [],
   "source": [
    "# from search_eval.utils.common_utils import *\n",
    "from search_eval.eval_no_search_SGLD import Eval_SGLD, SingleImageDataset\n",
    "\n",
    "from nni.retiarii.evaluator.pytorch import Lightning, Trainer\n",
    "from nni.retiarii.evaluator.pytorch.lightning import DataLoader\n",
    "from search_space.unet.unet import UNet\n",
    "\n",
    "import numpy as np\n",
    "import torch\n",
    "torch.cuda.empty_cache()\n",
    "\n",
    "dtype = torch.cuda.FloatTensor if torch.cuda.is_available() else torch.FloatTensor\n",
    "print('CUDA available: {}'.format(torch.cuda.is_available()))\n"
   ]
  },
  {
   "cell_type": "markdown",
   "metadata": {},
   "source": [
    "# Execute -- SGLD (No Search)"
   ]
  },
  {
   "cell_type": "code",
   "execution_count": null,
   "metadata": {},
   "outputs": [],
   "source": [
    "# INPUTS\n",
    "total_iterations = 1200 # optimal 1400\n",
    "show_every = 100 # 200\n",
    "report_every = 25 # 25\n",
    "burnin_iter = 200 # 200\n",
    "lr = 0.1 #  note a smaller learning rate affecs the SGLD, so overfitting happens FASTER at LOWER learning rates (start with 0.01)\n",
    "\n",
    "# model = UNet(in_channels=1, out_channels=1, init_features=64, depth=4)\n",
    "model = torch.hub.load('mateuszbuda/brain-segmentation-pytorch', 'unet', in_channels=1, out_channels=1, init_features=64, pretrained=False)\n",
    "\n",
    "img_id = np.random.randint(0, 50)\n",
    "resolution = 64\n",
    "noise_type = 'gaussian'\n",
    "noise_level = '0.09'\n",
    "phantom =       np.load(f'/home/joe/nas-for-dip/phantoms/ground_truth/{resolution}/{img_id}.npy')\n",
    "phantom_noisy = np.load(f'/home/joe/nas-for-dip/phantoms/{noise_type}/res_{resolution}/nl_{noise_level}/p_{img_id}.npy')\n",
    "\n",
    "print(f\"\\n\\n----------------------------------\")\n",
    "print(f'Experiment Configuration:')\n",
    "print(f'\\tImage Config')\n",
    "print(f'\\t\\tImage ID: {img_id}')\n",
    "print(f'\\t\\tImage Resolution: {resolution}')\n",
    "print(f'\\t\\tNoise Type: {noise_type}')\n",
    "print(f'\\t\\tNoise Level: {noise_level}\\n')\n",
    "\n",
    "print(f'\\tModel Config')\n",
    "print(f'\\t\\tModel: {model}\\n')\n",
    "\n",
    "print(f'\\tTraining Config')\n",
    "print(f'\\t\\tTotal Iterations: {total_iterations}')\n",
    "print(f'\\t\\tBurnin Iterations: {burnin_iter}')\n",
    "print(f'\\t\\tLearning Rate: {lr}')\n",
    "print(f'\\t\\tImage Resolution: {resolution}')\n",
    "print(f'\\t\\tPlotting every {show_every} iterations\\n')\n",
    "print(f\"----------------------------------\\n\\n\")\n",
    "\n",
    "# Create the lightning module\n",
    "module = Eval_SGLD(\n",
    "                phantom=phantom, \n",
    "                phantom_noisy=phantom_noisy,\n",
    "                lr=lr, \n",
    "                burnin_iter=burnin_iter,\n",
    "                model=model, # model defaults to U-net \n",
    "                show_every=show_every,\n",
    "                report_every=report_every,\n",
    "                )\n",
    "\n",
    "# Create a PyTorch Lightning trainer\n",
    "trainer = Trainer(\n",
    "            max_epochs=total_iterations,\n",
    "            fast_dev_run=False,\n",
    "            gpus=1,\n",
    "            )\n",
    "            \n",
    "if not hasattr(trainer, 'optimizer_frequencies'):\n",
    "    trainer.optimizer_frequencies = []\n",
    "\n",
    "\n",
    "# Create the lighting object for evaluator\n",
    "train_loader = DataLoader(SingleImageDataset(phantom, num_iter=1), batch_size=1)\n",
    "\n",
    "lightning = Lightning(lightning_module=module, trainer=trainer, train_dataloaders=train_loader, val_dataloaders=None)\n",
    "lightning.fit(model)"
   ]
  },
  {
   "cell_type": "code",
   "execution_count": null,
   "metadata": {},
   "outputs": [],
   "source": []
  }
 ],
 "metadata": {
  "kernelspec": {
   "display_name": "nas-test-OHy8kATa-py3.8",
   "language": "python",
   "name": "python3"
  },
  "language_info": {
   "codemirror_mode": {
    "name": "ipython",
    "version": 3
   },
   "file_extension": ".py",
   "mimetype": "text/x-python",
   "name": "python",
   "nbconvert_exporter": "python",
   "pygments_lexer": "ipython3",
   "version": "3.8.10"
  },
  "orig_nbformat": 4
 },
 "nbformat": 4,
 "nbformat_minor": 2
}
