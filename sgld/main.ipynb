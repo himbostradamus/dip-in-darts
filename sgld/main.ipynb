{
 "cells": [
  {
   "cell_type": "code",
   "execution_count": 14,
   "metadata": {},
   "outputs": [
    {
     "name": "stdout",
     "output_type": "stream",
     "text": [
      "[2023-08-31 19:33:50] \u001b[32mCreating experiment, Experiment ID: \u001b[36m1925npie\u001b[0m\n",
      "[2023-08-31 19:33:50] \u001b[32mStarting web server...\u001b[0m\n"
     ]
    },
    {
     "name": "stdout",
     "output_type": "stream",
     "text": [
      "[2023-08-31 19:33:51] \u001b[32mSetting up...\u001b[0m\n",
      "[2023-08-31 19:33:51] \u001b[32mWeb portal URLs: \u001b[36mhttp://127.0.0.1:8889 http://10.128.0.2:8889\u001b[0m\n"
     ]
    }
   ],
   "source": [
    "search_space = {\n",
    "    'learning_rate': {'_type': 'loguniform', '_value': [0.005, 0.2]},\n",
    "    'patience': {'_type': 'uniform', '_value': [500, 2000]},\n",
    "    'buffer_size': {'_type': 'choice', '_value': [100, 250, 500]},\n",
    "    'weight_decay': {'_type': 'loguniform', '_value': [1e-8, 1e-6]},\n",
    "}\n",
    "\n",
    "from nni.experiment import Experiment\n",
    "experiment = Experiment('local')\n",
    "\n",
    "experiment.config.trial_command = 'python model.py'\n",
    "experiment.config.trial_code_directory = '.'\n",
    "\n",
    "experiment.config.search_space = search_space\n",
    "\n",
    "experiment.config.tuner.name = 'TPE'\n",
    "experiment.config.tuner.class_args['optimize_mode'] = 'maximize'\n",
    "\n",
    "# experiment.config.max_trial_number = 10\n",
    "experiment.config.trial_concurrency = 1\n",
    "\n",
    "experiment.run(port=8889)"
   ]
  },
  {
   "cell_type": "code",
   "execution_count": null,
   "metadata": {},
   "outputs": [],
   "source": []
  },
  {
   "cell_type": "code",
   "execution_count": null,
   "metadata": {},
   "outputs": [
    {
     "name": "stdout",
     "output_type": "stream",
     "text": [
      "[2023-08-31 19:33:48] \u001b[32mStopping experiment, please wait...\u001b[0m\n",
      "[2023-08-31 19:33:48] \u001b[32mExperiment stopped\u001b[0m\n"
     ]
    }
   ],
   "source": [
    "# input('Press enter to quit')\n",
    "experiment.stop()"
   ]
  },
  {
   "cell_type": "code",
   "execution_count": null,
   "metadata": {},
   "outputs": [
    {
     "name": "stdout",
     "output_type": "stream",
     "text": [
      "1.24.4\n"
     ]
    },
    {
     "name": "stderr",
     "output_type": "stream",
     "text": [
      "Traceback (most recent call last):\n",
      "  File \"/home/joe/.pyenv/versions/3.8.10/lib/python3.8/runpy.py\", line 194, in _run_module_as_main\n",
      "    return _run_code(code, main_globals, None,\n",
      "  File \"/home/joe/.pyenv/versions/3.8.10/lib/python3.8/runpy.py\", line 87, in _run_code\n",
      "    exec(code, run_globals)\n",
      "  File \"/home/joe/.cache/pypoetry/virtualenvs/nas-test-OHy8kATa-py3.8/lib/python3.8/site-packages/nni/__main__.py\", line 85, in <module>\n",
      "    main()\n",
      "  File \"/home/joe/.cache/pypoetry/virtualenvs/nas-test-OHy8kATa-py3.8/lib/python3.8/site-packages/nni/__main__.py\", line 58, in main\n",
      "    dispatcher = MsgDispatcher(url, tuner, assessor)\n",
      "  File \"/home/joe/.cache/pypoetry/virtualenvs/nas-test-OHy8kATa-py3.8/lib/python3.8/site-packages/nni/runtime/msg_dispatcher.py\", line 71, in __init__\n",
      "    super().__init__(command_channel_url)\n",
      "  File \"/home/joe/.cache/pypoetry/virtualenvs/nas-test-OHy8kATa-py3.8/lib/python3.8/site-packages/nni/runtime/msg_dispatcher_base.py\", line 47, in __init__\n",
      "    self._channel.connect()\n",
      "  File \"/home/joe/.cache/pypoetry/virtualenvs/nas-test-OHy8kATa-py3.8/lib/python3.8/site-packages/nni/runtime/tuner_command_channel/channel.py\", line 48, in connect\n",
      "    self._channel.connect()\n",
      "  File \"/home/joe/.cache/pypoetry/virtualenvs/nas-test-OHy8kATa-py3.8/lib/python3.8/site-packages/nni/runtime/tuner_command_channel/websocket.py\", line 62, in connect\n",
      "    self._ws = _wait(_connect_async(self._url))\n",
      "  File \"/home/joe/.cache/pypoetry/virtualenvs/nas-test-OHy8kATa-py3.8/lib/python3.8/site-packages/nni/runtime/tuner_command_channel/websocket.py\", line 111, in _wait\n",
      "    return future.result()\n",
      "  File \"/home/joe/.pyenv/versions/3.8.10/lib/python3.8/concurrent/futures/_base.py\", line 444, in result\n",
      "    return self.__get_result()\n",
      "  File \"/home/joe/.pyenv/versions/3.8.10/lib/python3.8/concurrent/futures/_base.py\", line 389, in __get_result\n",
      "    raise self._exception\n",
      "  File \"/home/joe/.cache/pypoetry/virtualenvs/nas-test-OHy8kATa-py3.8/lib/python3.8/site-packages/nni/runtime/tuner_command_channel/websocket.py\", line 125, in _connect_async\n",
      "    return await websockets.connect(url, max_size=None)  # type: ignore\n",
      "  File \"/home/joe/.cache/pypoetry/virtualenvs/nas-test-OHy8kATa-py3.8/lib/python3.8/site-packages/websockets/legacy/client.py\", line 655, in __await_impl_timeout__\n",
      "    return await self.__await_impl__()\n",
      "  File \"/home/joe/.cache/pypoetry/virtualenvs/nas-test-OHy8kATa-py3.8/lib/python3.8/site-packages/websockets/legacy/client.py\", line 659, in __await_impl__\n",
      "    _transport, _protocol = await self._create_connection()\n",
      "  File \"/home/joe/.pyenv/versions/3.8.10/lib/python3.8/asyncio/base_events.py\", line 1033, in create_connection\n",
      "    raise OSError('Multiple exceptions: {}'.format(\n",
      "OSError: Multiple exceptions: [Errno 111] Connect call failed ('::1', 8889, 0, 0), [Errno 111] Connect call failed ('127.0.0.1', 8889)\n"
     ]
    }
   ],
   "source": [
    "import numpy as np\n",
    "print(np.__version__)"
   ]
  },
  {
   "cell_type": "code",
   "execution_count": null,
   "metadata": {},
   "outputs": [],
   "source": []
  }
 ],
 "metadata": {
  "kernelspec": {
   "display_name": "nas-test-OHy8kATa-py3.8",
   "language": "python",
   "name": "python3"
  },
  "language_info": {
   "codemirror_mode": {
    "name": "ipython",
    "version": 3
   },
   "file_extension": ".py",
   "mimetype": "text/x-python",
   "name": "python",
   "nbconvert_exporter": "python",
   "pygments_lexer": "ipython3",
   "version": "3.8.10"
  },
  "orig_nbformat": 4
 },
 "nbformat": 4,
 "nbformat_minor": 2
}
