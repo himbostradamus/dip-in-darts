{
 "cells": [
  {
   "cell_type": "markdown",
   "metadata": {},
   "source": [
    "# GPU Check"
   ]
  },
  {
   "cell_type": "code",
   "execution_count": null,
   "metadata": {},
   "outputs": [],
   "source": [
    "import GPUtil\n",
    "GPUs = GPUtil.getGPUs()\n",
    "for gpu in GPUs:\n",
    "  print(gpu.name, gpu.memoryTotal)"
   ]
  },
  {
   "cell_type": "markdown",
   "metadata": {},
   "source": [
    "# Imports"
   ]
  },
  {
   "cell_type": "code",
   "execution_count": null,
   "metadata": {},
   "outputs": [],
   "source": [
    "from SGLD_eval import SGLD, SingleImageDataset\n",
    "from phantom import generate_phantom\n",
    "from SGLD_space import DARTS_UNet\n",
    "\n",
    "import matplotlib.pyplot as plt\n",
    "\n",
    "import numpy as np\n",
    "from models import *\n",
    "import torch\n",
    "import torch.optim\n",
    "from utils.common_utils import *\n",
    "\n",
    "\n",
    "from nni.retiarii.evaluator.pytorch import Lightning, Trainer\n",
    "from nni.retiarii.evaluator.pytorch.lightning import DataLoader\n",
    "from nni.retiarii.experiment.pytorch import RetiariiExperiment, RetiariiExeConfig\n",
    "from pytorch_lightning.callbacks import ModelCheckpoint\n",
    "from nni.retiarii.strategy import DARTS as DartsStrategy\n",
    "\n",
    "dtype = torch.cuda.FloatTensor if torch.cuda.is_available() else torch.FloatTensor"
   ]
  },
  {
   "cell_type": "markdown",
   "metadata": {},
   "source": [
    "# Search"
   ]
  },
  {
   "cell_type": "code",
   "execution_count": null,
   "metadata": {},
   "outputs": [],
   "source": [
    "\n",
    "# choose iterations\n",
    "num_iter = 8000 # max iterations\n",
    "\n",
    "# get image\n",
    "# generate phantom stored in subfolder of parent directory\n",
    "resolution = 6\n",
    "max_depth = resolution - 1\n",
    "phantom = generate_phantom(resolution=resolution)\n",
    "raw_img_np = phantom.copy() # 1x64x64 np array    \n",
    "img_np = raw_img_np.copy() # 1x64x64 np array\n",
    "sigma=25/255\n",
    "# sigma = .05\n",
    "img_noisy_np = np.clip(img_np + np.random.normal(scale=sigma, size=img_np.shape), 0, 1).astype(np.float32)\n",
    "img_noisy_torch = np_to_torch(img_noisy_np).type(dtype)\n",
    "\n",
    "# reference model \n",
    "model = torch.hub.load('mateuszbuda/brain-segmentation-pytorch', 'unet',\n",
    "                       in_channels=1, out_channels=1, init_features=64, pretrained=False)\n",
    "\n",
    "# Create the lightning module\n",
    "module = SGLD(\n",
    "        original_np=img_np,\n",
    "        noisy_np=img_noisy_np,\n",
    "        noisy_torch=img_noisy_torch,\n",
    "        learning_rate = 0.1, # .06\n",
    "        show_every=500,\n",
    "        patience=1000,\n",
    "        buffer_size=100,\n",
    "        # model=model,\n",
    "        # weight_decay= ((1024**2)/(5e-8)) / (2**resolution) #1.28e-5, # this is for a 64x64 image\n",
    "        weight_decay= 5e-7\n",
    "        )\n",
    "\n",
    "# Create a PyTorch Lightning trainer\n",
    "trainer = Trainer(\n",
    "            max_epochs=num_iter,\n",
    "            fast_dev_run=False,\n",
    "            gpus=1,\n",
    "            checkpoint_callback=False\n",
    "            )\n",
    "\n",
    "# Initialize ModelCheckpoint callback\n",
    "checkpoint_callback = ModelCheckpoint(\n",
    "    dirpath='./{lightning_logs}/{logger_name}/version_{version}/checkpoints/',\n",
    "    filename='{epoch}-{step}',\n",
    "    every_n_epochs=num_iter/10,\n",
    "    save_top_k=1,\n",
    ")\n",
    "\n",
    "# Add the checkpoint callback to trainer\n",
    "trainer.callbacks.append(checkpoint_callback)\n",
    "            \n",
    "if not hasattr(trainer, 'optimizer_frequencies'):\n",
    "    trainer.optimizer_frequencies = []\n",
    "\n",
    "\n",
    "# Create the lighting object for evaluator\n",
    "train_loader = DataLoader(SingleImageDataset(phantom, num_iter=1), batch_size=1)\n",
    "val_loader = DataLoader(SingleImageDataset(phantom, num_iter=1), batch_size=1)\n",
    "\n",
    "lightning = Lightning(lightning_module=module, trainer=trainer, train_dataloaders=train_loader, val_dataloaders=val_loader)\n",
    "\n",
    "\n",
    "# Create a Search Space\n",
    "model_space = DARTS_UNet(depth=3)\n",
    "\n",
    "# Select the Search Strategy\n",
    "strategy = DartsStrategy()\n",
    "\n",
    "# fast_dev_run=False\n",
    "search_space=DARTS_UNet()\n",
    "\n",
    "config = RetiariiExeConfig(execution_engine='oneshot')\n",
    "experiment = RetiariiExperiment(model_space, evaluator=lightning, strategy=strategy)\n",
    "experiment.run(config)"
   ]
  },
  {
   "cell_type": "code",
   "execution_count": null,
   "metadata": {},
   "outputs": [],
   "source": [
    "\n",
    "exported_arch = experiment.export_top_models()\n",
    "\n",
    "exported_arch"
   ]
  },
  {
   "cell_type": "code",
   "execution_count": null,
   "metadata": {},
   "outputs": [],
   "source": [
    "experiment.stop()"
   ]
  },
  {
   "cell_type": "code",
   "execution_count": null,
   "metadata": {},
   "outputs": [],
   "source": []
  }
 ],
 "metadata": {
  "kernelspec": {
   "display_name": "nas-test-OHy8kATa-py3.8",
   "language": "python",
   "name": "python3"
  },
  "language_info": {
   "codemirror_mode": {
    "name": "ipython",
    "version": 3
   },
   "file_extension": ".py",
   "mimetype": "text/x-python",
   "name": "python",
   "nbconvert_exporter": "python",
   "pygments_lexer": "ipython3",
   "version": "3.8.10"
  },
  "orig_nbformat": 4
 },
 "nbformat": 4,
 "nbformat_minor": 2
}
