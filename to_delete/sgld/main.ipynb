{
 "cells": [
  {
   "cell_type": "code",
   "execution_count": 7,
   "metadata": {},
   "outputs": [],
   "source": [
    "from nni.experiment import Experiment\n",
    "\n",
    "search_space = {\n",
    "    'learning_rate': {'_type': 'loguniform', '_value': [0.005, 0.2]},\n",
    "    'patience': {'_type': 'uniform', '_value': [500, 2000]},\n",
    "    'buffer_size': {'_type': 'choice', '_value': [100, 250, 500]},\n",
    "    'weight_decay': {'_type': 'loguniform', '_value': [1e-8, 1e-6]},\n",
    "}\n",
    "\n",
    "experiment = Experiment('local')\n",
    "\n",
    "experiment.config.trial_command = 'python model.py'\n",
    "experiment.config.trial_code_directory = '.'\n",
    "experiment.config.experiment_name = str(\"DIP-in-DARTS\")\n",
    "\n",
    "experiment.config.search_space = search_space\n",
    "\n",
    "experiment.config.tuner.name = 'TPE'\n",
    "experiment.config.tuner.class_args['optimize_mode'] = 'maximize'\n",
    "\n",
    "# experiment.config.max_trial_number = 10\n",
    "experiment.config.trial_concurrency = 1\n",
    "# experiment.config.num_workers = 16\n",
    "\n",
    "experiment.run(port=8889)"
   ]
  },
  {
   "cell_type": "code",
   "execution_count": 9,
   "metadata": {},
   "outputs": [
    {
     "name": "stdout",
     "output_type": "stream",
     "text": [
      "[2023-09-02 17:20:27] \u001b[32mStopping experiment, please wait...\u001b[0m\n",
      "[2023-09-02 17:20:27] \u001b[32mExperiment stopped\u001b[0m\n"
     ]
    }
   ],
   "source": [
    "experiment.stop()"
   ]
  },
  {
   "cell_type": "code",
   "execution_count": null,
   "metadata": {},
   "outputs": [],
   "source": []
  }
 ],
 "metadata": {
  "kernelspec": {
   "display_name": "nas-test-OHy8kATa-py3.8",
   "language": "python",
   "name": "python3"
  },
  "language_info": {
   "codemirror_mode": {
    "name": "ipython",
    "version": 3
   },
   "file_extension": ".py",
   "mimetype": "text/x-python",
   "name": "python",
   "nbconvert_exporter": "python",
   "pygments_lexer": "ipython3",
   "version": "3.8.10"
  },
  "orig_nbformat": 4
 },
 "nbformat": 4,
 "nbformat_minor": 2
}
