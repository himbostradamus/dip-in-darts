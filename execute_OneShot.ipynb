{
 "cells": [
  {
   "cell_type": "markdown",
   "metadata": {},
   "source": [
    "# GPU Check"
   ]
  },
  {
   "cell_type": "code",
   "execution_count": null,
   "metadata": {},
   "outputs": [],
   "source": [
    "import GPUtil\n",
    "GPUs = GPUtil.getGPUs()\n",
    "for gpu in GPUs:\n",
    "  print(gpu.name, gpu.memoryTotal)"
   ]
  },
  {
   "cell_type": "markdown",
   "metadata": {},
   "source": [
    "# Imports"
   ]
  },
  {
   "cell_type": "code",
   "execution_count": null,
   "metadata": {},
   "outputs": [],
   "source": [
    "from search_eval.eval_generic import SGLDES\n",
    "from search_eval.optimizer.SingleImageDataset import SingleImageDataset\n",
    "from search_eval.utils.common_utils import *\n",
    "from search_space.unetspaceOS import UNetSpace\n",
    "\n",
    "from nni import trace\n",
    "import nni.retiarii.strategy as strategy\n",
    "import nni.retiarii.serializer as serializer\n",
    "\n",
    "from nni.retiarii.experiment.pytorch import RetiariiExperiment, RetiariiExeConfig\n",
    "from nni.retiarii.evaluator.pytorch import Lightning, Trainer\n",
    "from nni.retiarii.evaluator.pytorch.lightning import DataLoader\n",
    "\n",
    "import torch\n",
    "\n",
    "torch.cuda.empty_cache()\n",
    "dtype = torch.cuda.FloatTensor if torch.cuda.is_available() else torch.FloatTensor\n",
    "print('CUDA available: {}'.format(torch.cuda.is_available()))"
   ]
  },
  {
   "cell_type": "markdown",
   "metadata": {},
   "source": [
    "# Strategy"
   ]
  },
  {
   "cell_type": "code",
   "execution_count": null,
   "metadata": {},
   "outputs": [],
   "source": [
    "# Select the Search Strategy\n",
    "# search_strategy = strategy.DARTS()\n",
    "# search_strategy = strategy.ENAS()\n",
    "search_strategy = strategy.GumbelDARTS()\n",
    "# search_strategy = strategy.RandomOneShot()"
   ]
  },
  {
   "cell_type": "markdown",
   "metadata": {},
   "source": [
    "# GumbleDARTS"
   ]
  },
  {
   "cell_type": "code",
   "execution_count": null,
   "metadata": {},
   "outputs": [],
   "source": [
    "\n",
    "search_strategy = strategy.GumbelDARTS()\n",
    "\n",
    "total_iterations = 4000\n",
    "\n",
    "resolution = 64\n",
    "noise_type = 'gaussian'\n",
    "noise_level = .15\n",
    "img_id = np.random.randint(0, 50)\n",
    "\n",
    "phantom =       np.load(f'/home/joe/nas-for-dip/phantoms/ground_truth/{resolution}/{img_id}.npy')\n",
    "phantom_noisy = np.load(f'/home/joe/nas-for-dip/phantoms/{noise_type}/res_{resolution}/nl_{noise_level}/p_{img_id}.npy')\n",
    "\n",
    "learning_rate = 0.11\n",
    "buffer_size = 1000 # need to tinker with to get right\n",
    "patience = 1000 # need to tinker with to get right\n",
    "weight_decay = 5e-7\n",
    "show_every = 200\n",
    "report_every = 25\n",
    "\n",
    "# Create the lightning module\n",
    "module = SGLDES(\n",
    "                phantom=phantom, \n",
    "                phantom_noisy=phantom_noisy,\n",
    "                \n",
    "                learning_rate=learning_rate, # consider .01\n",
    "                buffer_size=buffer_size,\n",
    "                patience=patience,\n",
    "                weight_decay= weight_decay,\n",
    "\n",
    "                show_every=show_every,\n",
    "                report_every=report_every,\n",
    "                HPO=False,\n",
    "                NAS=True,\n",
    "                OneShot=True,\n",
    "                SGLD_regularize=False,\n",
    "                ES=False,\n",
    "                )\n",
    "\n",
    "# Create a PyTorch Lightning trainer\n",
    "trainer = Trainer(\n",
    "            max_epochs=total_iterations,\n",
    "            fast_dev_run=False,\n",
    "            gpus=1,\n",
    "            )\n",
    "            \n",
    "if not hasattr(trainer, 'optimizer_frequencies'):\n",
    "    trainer.optimizer_frequencies = []\n",
    "\n",
    "\n",
    "# Create the lighting object for evaluator\n",
    "train_loader = DataLoader(SingleImageDataset(phantom_noisy, num_iter=1), batch_size=1) # previously put phantom in here, testing if this is correct\n",
    "val_loader = DataLoader(SingleImageDataset(phantom_noisy, num_iter=1), batch_size=1) # this may be negligable given how the forward pass is defined\n",
    "\n",
    "lightning = Lightning(lightning_module=module, trainer=trainer, train_dataloaders=train_loader, val_dataloaders=val_loader)\n",
    "\n",
    "\n",
    "model_space = UNetSpace(\n",
    "         C_in=1, \n",
    "         C_out=1, \n",
    "         depth=4, \n",
    "         nodes_per_layer=2, # accept only 1 or 2,\n",
    "         ops_per_node=4,\n",
    "         use_attention=True,\n",
    "        )\n",
    "\n",
    "config = RetiariiExeConfig(execution_engine='oneshot')\n",
    "experiment = RetiariiExperiment(model_space, evaluator=lightning, strategy=search_strategy)\n",
    "experiment.run(config)"
   ]
  },
  {
   "cell_type": "code",
   "execution_count": null,
   "metadata": {},
   "outputs": [],
   "source": [
    "experiment.stop()"
   ]
  },
  {
   "cell_type": "code",
   "execution_count": null,
   "metadata": {},
   "outputs": [],
   "source": [
    "\n",
    "exported_arch = experiment.export_top_models(formatter='dict')\n",
    "\n",
    "exported_arch[0]"
   ]
  },
  {
   "cell_type": "markdown",
   "metadata": {},
   "source": [
    "# DARTS"
   ]
  },
  {
   "cell_type": "code",
   "execution_count": null,
   "metadata": {},
   "outputs": [],
   "source": [
    "\n",
    "\n",
    "total_iterations = 4000\n",
    "\n",
    "resolution = 64\n",
    "noise_type = 'gaussian'\n",
    "noise_level = .09\n",
    "img_id = np.random.randint(0, 50)\n",
    "\n",
    "phantom =       np.load(f'/home/joe/nas-for-dip/phantoms/ground_truth/{resolution}/{img_id}.npy')\n",
    "phantom_noisy = np.load(f'/home/joe/nas-for-dip/phantoms/{noise_type}/res_{resolution}/nl_{noise_level}/p_{img_id}.npy')\n",
    "\n",
    "learning_rate = 0.11\n",
    "buffer_size = 1000 # need to tinker with to get right\n",
    "patience = 1000 # need to tinker with to get right\n",
    "weight_decay = 5e-7\n",
    "show_every = 200\n",
    "report_every = 25\n",
    "\n",
    "# Create the lightning module\n",
    "module = SGLDES(\n",
    "                phantom=phantom, \n",
    "                phantom_noisy=phantom_noisy,\n",
    "                \n",
    "                learning_rate=learning_rate, # consider .01\n",
    "                buffer_size=buffer_size,\n",
    "                patience=patience,\n",
    "                weight_decay= weight_decay,\n",
    "\n",
    "                show_every=show_every,\n",
    "                report_every=report_every,\n",
    "                HPO=False,\n",
    "                NAS=True,\n",
    "                OneShot=True,\n",
    "                SGLD_regularize=False,\n",
    "                ES=False,\n",
    "                )\n",
    "\n",
    "# Create a PyTorch Lightning trainer\n",
    "trainer = Trainer(\n",
    "            max_epochs=total_iterations,\n",
    "            fast_dev_run=False,\n",
    "            gpus=1,\n",
    "            )\n",
    "            \n",
    "if not hasattr(trainer, 'optimizer_frequencies'):\n",
    "    trainer.optimizer_frequencies = []\n",
    "\n",
    "\n",
    "# Create the lighting object for evaluator\n",
    "train_loader = DataLoader(SingleImageDataset(phantom_noisy, num_iter=1), batch_size=1) # previously put phantom in here, testing if this is correct\n",
    "val_loader = DataLoader(SingleImageDataset(phantom_noisy, num_iter=1), batch_size=1) # this may be negligable given how the forward pass is defined\n",
    "\n",
    "lightning = Lightning(lightning_module=module, trainer=trainer, train_dataloaders=train_loader, val_dataloaders=val_loader)\n",
    "\n",
    "\n",
    "model_space = UNetSpace(\n",
    "         C_in=1, \n",
    "         C_out=1, \n",
    "         depth=4, \n",
    "         nodes_per_layer=2, # accept only 1 or 2,\n",
    "         ops_per_node=4,\n",
    "         use_attention=True,\n",
    "        )\n",
    "\n",
    "search_strategy = strategy.DARTS()\n",
    "config = RetiariiExeConfig(execution_engine='oneshot')\n",
    "experiment = RetiariiExperiment(model_space, evaluator=lightning, strategy=search_strategy)\n",
    "experiment.run(config)"
   ]
  },
  {
   "cell_type": "code",
   "execution_count": null,
   "metadata": {},
   "outputs": [],
   "source": [
    "\n",
    "exported_arch = experiment.export_top_models(formatter='dict')\n",
    "\n",
    "exported_arch[0]"
   ]
  },
  {
   "cell_type": "code",
   "execution_count": null,
   "metadata": {},
   "outputs": [],
   "source": [
    "experiment.stop()"
   ]
  }
 ],
 "metadata": {
  "kernelspec": {
   "display_name": "nas-test-OHy8kATa-py3.8",
   "language": "python",
   "name": "python3"
  },
  "language_info": {
   "codemirror_mode": {
    "name": "ipython",
    "version": 3
   },
   "file_extension": ".py",
   "mimetype": "text/x-python",
   "name": "python",
   "nbconvert_exporter": "python",
   "pygments_lexer": "ipython3",
   "version": "3.8.10"
  },
  "orig_nbformat": 4
 },
 "nbformat": 4,
 "nbformat_minor": 2
}
